{
 "cells": [
  {
   "cell_type": "markdown",
   "metadata": {
    "colab_type": "text",
    "id": "view-in-github"
   },
   "source": [
    "<a href=\"https://colab.research.google.com/github/azizbarank/distilroberta-base-sst-2-distilled/blob/main/knowledge_distillation.ipynb\" target=\"_parent\"><img src=\"https://colab.research.google.com/assets/colab-badge.svg\" alt=\"Open In Colab\"/></a>"
   ]
  },
  {
   "cell_type": "markdown",
   "metadata": {
    "id": "xknRaAfngCT1"
   },
   "source": [
    "## Installing necessary packages"
   ]
  },
  {
   "cell_type": "code",
   "execution_count": 1,
   "metadata": {
    "colab": {
     "base_uri": "https://localhost:8080/"
    },
    "id": "285QJOlK9Z2W",
    "outputId": "c4169aea-40e4-4e75-8c29-d3faa58ff92b"
   },
   "outputs": [
    {
     "name": "stdout",
     "output_type": "stream",
     "text": [
      "Looking in indexes: https://pypi.org/simple, https://us-python.pkg.dev/colab-wheels/public/simple/\n",
      "Requirement already satisfied: transformers in /usr/local/lib/python3.7/dist-packages (4.22.2)\n",
      "Requirement already satisfied: datasets in /usr/local/lib/python3.7/dist-packages (2.5.2)\n",
      "Requirement already satisfied: tensorboard in /usr/local/lib/python3.7/dist-packages (2.8.0)\n",
      "Requirement already satisfied: filelock in /usr/local/lib/python3.7/dist-packages (from transformers) (3.8.0)\n",
      "Requirement already satisfied: numpy>=1.17 in /usr/local/lib/python3.7/dist-packages (from transformers) (1.21.6)\n",
      "Requirement already satisfied: huggingface-hub<1.0,>=0.9.0 in /usr/local/lib/python3.7/dist-packages (from transformers) (0.10.0)\n",
      "Requirement already satisfied: regex!=2019.12.17 in /usr/local/lib/python3.7/dist-packages (from transformers) (2022.6.2)\n",
      "Requirement already satisfied: pyyaml>=5.1 in /usr/local/lib/python3.7/dist-packages (from transformers) (6.0)\n",
      "Requirement already satisfied: tqdm>=4.27 in /usr/local/lib/python3.7/dist-packages (from transformers) (4.64.1)\n",
      "Requirement already satisfied: requests in /usr/local/lib/python3.7/dist-packages (from transformers) (2.23.0)\n",
      "Requirement already satisfied: tokenizers!=0.11.3,<0.13,>=0.11.1 in /usr/local/lib/python3.7/dist-packages (from transformers) (0.12.1)\n",
      "Requirement already satisfied: packaging>=20.0 in /usr/local/lib/python3.7/dist-packages (from transformers) (21.3)\n",
      "Requirement already satisfied: importlib-metadata in /usr/local/lib/python3.7/dist-packages (from transformers) (5.0.0)\n",
      "Requirement already satisfied: typing-extensions>=3.7.4.3 in /usr/local/lib/python3.7/dist-packages (from huggingface-hub<1.0,>=0.9.0->transformers) (4.1.1)\n",
      "Requirement already satisfied: pyparsing!=3.0.5,>=2.0.2 in /usr/local/lib/python3.7/dist-packages (from packaging>=20.0->transformers) (3.0.9)\n",
      "Requirement already satisfied: aiohttp in /usr/local/lib/python3.7/dist-packages (from datasets) (3.8.3)\n",
      "Requirement already satisfied: multiprocess in /usr/local/lib/python3.7/dist-packages (from datasets) (0.70.13)\n",
      "Requirement already satisfied: fsspec[http]>=2021.11.1 in /usr/local/lib/python3.7/dist-packages (from datasets) (2022.8.2)\n",
      "Requirement already satisfied: dill<0.3.6 in /usr/local/lib/python3.7/dist-packages (from datasets) (0.3.5.1)\n",
      "Requirement already satisfied: pandas in /usr/local/lib/python3.7/dist-packages (from datasets) (1.3.5)\n",
      "Requirement already satisfied: pyarrow>=6.0.0 in /usr/local/lib/python3.7/dist-packages (from datasets) (6.0.1)\n",
      "Requirement already satisfied: xxhash in /usr/local/lib/python3.7/dist-packages (from datasets) (3.0.0)\n",
      "Requirement already satisfied: responses<0.19 in /usr/local/lib/python3.7/dist-packages (from datasets) (0.18.0)\n",
      "Requirement already satisfied: attrs>=17.3.0 in /usr/local/lib/python3.7/dist-packages (from aiohttp->datasets) (22.1.0)\n",
      "Requirement already satisfied: aiosignal>=1.1.2 in /usr/local/lib/python3.7/dist-packages (from aiohttp->datasets) (1.2.0)\n",
      "Requirement already satisfied: async-timeout<5.0,>=4.0.0a3 in /usr/local/lib/python3.7/dist-packages (from aiohttp->datasets) (4.0.2)\n",
      "Requirement already satisfied: yarl<2.0,>=1.0 in /usr/local/lib/python3.7/dist-packages (from aiohttp->datasets) (1.8.1)\n",
      "Requirement already satisfied: charset-normalizer<3.0,>=2.0 in /usr/local/lib/python3.7/dist-packages (from aiohttp->datasets) (2.1.1)\n",
      "Requirement already satisfied: frozenlist>=1.1.1 in /usr/local/lib/python3.7/dist-packages (from aiohttp->datasets) (1.3.1)\n",
      "Requirement already satisfied: multidict<7.0,>=4.5 in /usr/local/lib/python3.7/dist-packages (from aiohttp->datasets) (6.0.2)\n",
      "Requirement already satisfied: asynctest==0.13.0 in /usr/local/lib/python3.7/dist-packages (from aiohttp->datasets) (0.13.0)\n",
      "Requirement already satisfied: chardet<4,>=3.0.2 in /usr/local/lib/python3.7/dist-packages (from requests->transformers) (3.0.4)\n",
      "Requirement already satisfied: urllib3!=1.25.0,!=1.25.1,<1.26,>=1.21.1 in /usr/local/lib/python3.7/dist-packages (from requests->transformers) (1.25.11)\n",
      "Requirement already satisfied: idna<3,>=2.5 in /usr/local/lib/python3.7/dist-packages (from requests->transformers) (2.10)\n",
      "Requirement already satisfied: certifi>=2017.4.17 in /usr/local/lib/python3.7/dist-packages (from requests->transformers) (2022.9.24)\n",
      "Requirement already satisfied: wheel>=0.26 in /usr/local/lib/python3.7/dist-packages (from tensorboard) (0.37.1)\n",
      "Requirement already satisfied: absl-py>=0.4 in /usr/local/lib/python3.7/dist-packages (from tensorboard) (1.2.0)\n",
      "Requirement already satisfied: grpcio>=1.24.3 in /usr/local/lib/python3.7/dist-packages (from tensorboard) (1.49.1)\n",
      "Requirement already satisfied: google-auth-oauthlib<0.5,>=0.4.1 in /usr/local/lib/python3.7/dist-packages (from tensorboard) (0.4.6)\n",
      "Requirement already satisfied: markdown>=2.6.8 in /usr/local/lib/python3.7/dist-packages (from tensorboard) (3.4.1)\n",
      "Requirement already satisfied: protobuf>=3.6.0 in /usr/local/lib/python3.7/dist-packages (from tensorboard) (3.17.3)\n",
      "Requirement already satisfied: setuptools>=41.0.0 in /usr/local/lib/python3.7/dist-packages (from tensorboard) (57.4.0)\n",
      "Requirement already satisfied: werkzeug>=0.11.15 in /usr/local/lib/python3.7/dist-packages (from tensorboard) (1.0.1)\n",
      "Requirement already satisfied: tensorboard-data-server<0.7.0,>=0.6.0 in /usr/local/lib/python3.7/dist-packages (from tensorboard) (0.6.1)\n",
      "Requirement already satisfied: tensorboard-plugin-wit>=1.6.0 in /usr/local/lib/python3.7/dist-packages (from tensorboard) (1.8.1)\n",
      "Requirement already satisfied: google-auth<3,>=1.6.3 in /usr/local/lib/python3.7/dist-packages (from tensorboard) (1.35.0)\n",
      "Requirement already satisfied: pyasn1-modules>=0.2.1 in /usr/local/lib/python3.7/dist-packages (from google-auth<3,>=1.6.3->tensorboard) (0.2.8)\n",
      "Requirement already satisfied: cachetools<5.0,>=2.0.0 in /usr/local/lib/python3.7/dist-packages (from google-auth<3,>=1.6.3->tensorboard) (4.2.4)\n",
      "Requirement already satisfied: rsa<5,>=3.1.4 in /usr/local/lib/python3.7/dist-packages (from google-auth<3,>=1.6.3->tensorboard) (4.9)\n",
      "Requirement already satisfied: six>=1.9.0 in /usr/local/lib/python3.7/dist-packages (from google-auth<3,>=1.6.3->tensorboard) (1.15.0)\n",
      "Requirement already satisfied: requests-oauthlib>=0.7.0 in /usr/local/lib/python3.7/dist-packages (from google-auth-oauthlib<0.5,>=0.4.1->tensorboard) (1.3.1)\n",
      "Requirement already satisfied: zipp>=0.5 in /usr/local/lib/python3.7/dist-packages (from importlib-metadata->transformers) (3.8.1)\n",
      "Requirement already satisfied: pyasn1<0.5.0,>=0.4.6 in /usr/local/lib/python3.7/dist-packages (from pyasn1-modules>=0.2.1->google-auth<3,>=1.6.3->tensorboard) (0.4.8)\n",
      "Requirement already satisfied: oauthlib>=3.0.0 in /usr/local/lib/python3.7/dist-packages (from requests-oauthlib>=0.7.0->google-auth-oauthlib<0.5,>=0.4.1->tensorboard) (3.2.1)\n",
      "Requirement already satisfied: pytz>=2017.3 in /usr/local/lib/python3.7/dist-packages (from pandas->datasets) (2022.4)\n",
      "Requirement already satisfied: python-dateutil>=2.7.3 in /usr/local/lib/python3.7/dist-packages (from pandas->datasets) (2.8.2)\n",
      "Reading package lists... Done\n",
      "Building dependency tree       \n",
      "Reading state information... Done\n",
      "git-lfs is already the newest version (2.3.4-1).\n",
      "The following package was automatically installed and is no longer required:\n",
      "  libnvidia-common-460\n",
      "Use 'sudo apt autoremove' to remove it.\n",
      "0 upgraded, 0 newly installed, 0 to remove and 12 not upgraded.\n"
     ]
    }
   ],
   "source": [
    "!pip install transformers datasets tensorboard\n",
    "!sudo apt-get install git-lfs"
   ]
  },
  {
   "cell_type": "markdown",
   "metadata": {
    "id": "TFefM0LdgJkH"
   },
   "source": [
    "## Chhosing our \"teacher\" and \"student\" models"
   ]
  },
  {
   "cell_type": "code",
   "execution_count": 1,
   "metadata": {
    "id": "wrQyPjcl9-Ol"
   },
   "outputs": [],
   "source": [
    "student = \"distilroberta-base\" # this is just placeholder ignore\n",
    "teacher = \"klue/roberta-base\""
   ]
  },
  {
   "cell_type": "markdown",
   "metadata": {
    "id": "Mxo4XGgRgQhO"
   },
   "source": [
    "## Loading our SST-2 part of the GLUE dataset"
   ]
  },
  {
   "cell_type": "code",
   "execution_count": 2,
   "metadata": {
    "colab": {
     "base_uri": "https://localhost:8080/",
     "height": 86,
     "referenced_widgets": [
      "e9acdb1a1d2643819339b8f0cf3cecd1",
      "135dbaaa41a946ca899dc8164bca3e44",
      "09db8fe0b55443fdab2ac54e84bb7ff5",
      "b591e297adff46fa8df014fe9192caa3",
      "8c2682025ce14a88b39dbfc826e33954",
      "5ad3705618644447bfcfdb9b65271883",
      "b71e32972c104b53a669ec7591e557ff",
      "861ab3f25cb4479f9ace3978dc315ecf",
      "52eabebd19834610890b10347acaf05a",
      "e39bf65dc61a4836805a0a8bd23503a3",
      "a864568c3b89405cb3ca8e36180f9e61"
     ]
    },
    "id": "ZhFP95R3-xs-",
    "outputId": "f5248a08-07c1-4640-f397-a370c2a60e53",
    "scrolled": true
   },
   "outputs": [
    {
     "name": "stderr",
     "output_type": "stream",
     "text": [
      "/home/seungjoonpark/miniconda3/envs/nlp_project/lib/python3.8/site-packages/tqdm/auto.py:22: TqdmWarning: IProgress not found. Please update jupyter and ipywidgets. See https://ipywidgets.readthedocs.io/en/stable/user_install.html\n",
      "  from .autonotebook import tqdm as notebook_tqdm\n",
      "Found cached dataset klue (/home/seungjoonpark/.cache/huggingface/datasets/klue/ynat/1.0.0/e0fc3bc3de3eb03be2c92d72fd04a60ecc71903f821619cb28ca0e1e29e4233e)\n",
      "100%|██████████| 2/2 [00:00<00:00,  8.94it/s]\n"
     ]
    }
   ],
   "source": [
    "from datasets import load_dataset\n",
    "\n",
    "dataset = load_dataset(\"klue\", \"ynat\")"
   ]
  },
  {
   "cell_type": "code",
   "execution_count": 42,
   "metadata": {},
   "outputs": [],
   "source": [
    "# config, unused_kwargs = AutoConfig.from_pretrained(student, output_attention=True,\n",
    "#                                                    foo=False, return_unused_kwargs=True)\n",
    "# config.num_hidden_layers = 6\n",
    "# config.num_labels = num_labels"
   ]
  },
  {
   "cell_type": "markdown",
   "metadata": {
    "id": "nM5nz3GOgXoG"
   },
   "source": [
    "## Tokenization"
   ]
  },
  {
   "cell_type": "markdown",
   "metadata": {
    "id": "mlAARAR8ge9r"
   },
   "source": [
    "### Initiating the tokenizer of our student model"
   ]
  },
  {
   "cell_type": "code",
   "execution_count": 54,
   "metadata": {
    "colab": {
     "base_uri": "https://localhost:8080/",
     "height": 104,
     "referenced_widgets": [
      "9e2728489569432394255a3bb3a80247",
      "af6bdd67d22a42f0be80845511720ae0",
      "3b32dbed334941b881ae0e563d7c40ce",
      "6abc6629a8b0412c9b09ad02c3376127",
      "8722d84268664df5a8012a83afd575f3",
      "3ddd98a8524042adba2bbaab1dbf60af",
      "8a1e9c4517dc463ba78b91b16431008a",
      "0a8902cb735d4f658fd387204149ace6",
      "e25584843ddd4a4484ec94e7e6c0f6a0",
      "155517c19bc24d599b068af7e28ad8cf",
      "3838ac5a07244d7da893c8ba71b21fd9"
     ]
    },
    "id": "-pTJHVMv-7fz",
    "outputId": "d5047064-b098-435b-938c-ffd0c4a3ed9b"
   },
   "outputs": [
    {
     "name": "stderr",
     "output_type": "stream",
     "text": [
      "loading file vocab.txt from cache at /home/seungjoonpark/.cache/huggingface/hub/models--klue--roberta-base/snapshots/67dd433d36ebc66a42c9aaa85abcf8d2620e41d9/vocab.txt\n",
      "loading file tokenizer.json from cache at /home/seungjoonpark/.cache/huggingface/hub/models--klue--roberta-base/snapshots/67dd433d36ebc66a42c9aaa85abcf8d2620e41d9/tokenizer.json\n",
      "loading file added_tokens.json from cache at None\n",
      "loading file special_tokens_map.json from cache at /home/seungjoonpark/.cache/huggingface/hub/models--klue--roberta-base/snapshots/67dd433d36ebc66a42c9aaa85abcf8d2620e41d9/special_tokens_map.json\n",
      "loading file tokenizer_config.json from cache at /home/seungjoonpark/.cache/huggingface/hub/models--klue--roberta-base/snapshots/67dd433d36ebc66a42c9aaa85abcf8d2620e41d9/tokenizer_config.json\n"
     ]
    }
   ],
   "source": [
    "from transformers import AutoTokenizer\n",
    "\n",
    "tokenizer = AutoTokenizer.from_pretrained(teacher)"
   ]
  },
  {
   "cell_type": "code",
   "execution_count": 55,
   "metadata": {},
   "outputs": [],
   "source": [
    "from IPython.core.debugger import set_trace"
   ]
  },
  {
   "cell_type": "code",
   "execution_count": 56,
   "metadata": {
    "colab": {
     "base_uri": "https://localhost:8080/",
     "height": 191,
     "referenced_widgets": [
      "ea941579121247548fdf7774079f2f5b",
      "0faf64a0c2af4340ac3b0eed24732d5a",
      "cde2d6e48a7748ca840c745e52fa06c2",
      "7874b0b368c24ef7b15fac3a4ed83582",
      "a255def76d9b4c9db5d9cc7385fc9e6d",
      "b0614b4ade314c5c8073193bb1d3408f",
      "38b21b8459234a42b8fb69752644d48a",
      "5ffb8a1db11a43cb8602ec7af8c55f77",
      "5293a6fc609849eda02622c6fa5b2167",
      "c9403580e4524754980170c5f1130bd9",
      "1e5da5a29aaa4700bcdbdfc768b33aaf"
     ]
    },
    "id": "4W4oB3mzHJlb",
    "outputId": "60e0f718-85e2-4b4b-ae18-48e52f6453cb"
   },
   "outputs": [
    {
     "name": "stderr",
     "output_type": "stream",
     "text": [
      "Loading cached processed dataset at /home/seungjoonpark/.cache/huggingface/datasets/klue/ynat/1.0.0/e0fc3bc3de3eb03be2c92d72fd04a60ecc71903f821619cb28ca0e1e29e4233e/cache-2a4ba6b8e6034858.arrow\n",
      "Loading cached processed dataset at /home/seungjoonpark/.cache/huggingface/datasets/klue/ynat/1.0.0/e0fc3bc3de3eb03be2c92d72fd04a60ecc71903f821619cb28ca0e1e29e4233e/cache-4bd23a7d72037fef.arrow\n"
     ]
    },
    {
     "data": {
      "text/plain": [
       "{'guid': Value(dtype='string', id=None),\n",
       " 'title': Value(dtype='string', id=None),\n",
       " 'labels': ClassLabel(names=['IT과학', '경제', '사회', '생활문화', '세계', '스포츠', '정치'], id=None),\n",
       " 'url': Value(dtype='string', id=None),\n",
       " 'date': Value(dtype='string', id=None),\n",
       " 'input_ids': Sequence(feature=Value(dtype='int32', id=None), length=-1, id=None),\n",
       " 'token_type_ids': Sequence(feature=Value(dtype='int8', id=None), length=-1, id=None),\n",
       " 'attention_mask': Sequence(feature=Value(dtype='int8', id=None), length=-1, id=None)}"
      ]
     },
     "execution_count": 56,
     "metadata": {},
     "output_type": "execute_result"
    }
   ],
   "source": [
    "def process(examples):\n",
    "    tokenized_inputs = tokenizer(\n",
    "        examples[\"title\"], truncation=True, max_length=512\n",
    "    )\n",
    "    return tokenized_inputs\n",
    "\n",
    "sst2_enc = dataset.map(process, batched=True)\n",
    "sst2_enc = sst2_enc.rename_column(\"label\",\"labels\")\n",
    "\n",
    "sst2_enc[\"validation\"].features"
   ]
  },
  {
   "cell_type": "markdown",
   "metadata": {
    "id": "uGE72or9gsGn"
   },
   "source": [
    "## Creating our Knowledge Distillation Trainer"
   ]
  },
  {
   "cell_type": "code",
   "execution_count": 57,
   "metadata": {
    "id": "JayX6RkQ_GZf"
   },
   "outputs": [],
   "source": [
    "from transformers import TrainingArguments\n",
    "\n",
    "class DistillationTrainingArguments(TrainingArguments):\n",
    "    def __init__(self, *args, alpha=0.5, temperature=2.0, **kwargs):\n",
    "        super().__init__(*args, **kwargs)\n",
    "\n",
    "        self.alpha = alpha\n",
    "        self.temperature = temperature"
   ]
  },
  {
   "cell_type": "code",
   "execution_count": 58,
   "metadata": {
    "id": "GdeAjnlUERab"
   },
   "outputs": [],
   "source": [
    "import torch\n",
    "import torch.nn as nn\n",
    "import torch.nn.functional as F\n",
    "from transformers import Trainer\n",
    "\n",
    "class DistillationTrainer(Trainer):\n",
    "    def __init__(self, *args, teacher_model=None, **kwargs):\n",
    "        super().__init__(*args, **kwargs)\n",
    "        self.teacher = teacher_model\n",
    "        self._move_model_to_device(self.teacher,self.model.device)\n",
    "        self.teacher.eval()\n",
    "\n",
    "    def compute_loss(self, model, inputs, return_outputs=False):\n",
    "\n",
    "        # compute student output\n",
    "        outputs_student = model(**inputs)\n",
    "        student_loss=outputs_student.loss\n",
    "        # compute teacher output\n",
    "        with torch.no_grad():\n",
    "            outputs_teacher = self.teacher(**inputs)\n",
    "\n",
    "        # assert size\n",
    "        assert outputs_student.logits.size() == outputs_teacher.logits.size()\n",
    "\n",
    "        # compute distillation loss and soften probabilities\n",
    "        loss_function = nn.KLDivLoss(reduction=\"batchmean\")\n",
    "#         cos_loss_function = nn.CosineEmbeddingLoss(reduction=\"mean\")\n",
    "        \n",
    "        loss_logits = (loss_function(\n",
    "            F.log_softmax(outputs_student.logits / self.args.temperature, dim=-1),\n",
    "            F.softmax(outputs_teacher.logits / self.args.temperature, dim=-1)) * (self.args.temperature ** 2))\n",
    "        # return weighted student loss\n",
    "        loss = self.args.alpha * student_loss + (1. - self.args.alpha) * loss_logits\n",
    "        return (loss, outputs_student) if return_outputs else loss"
   ]
  },
  {
   "cell_type": "markdown",
   "metadata": {
    "id": "Of9nToqqhF9Y"
   },
   "source": [
    "## Defining the Metric"
   ]
  },
  {
   "cell_type": "code",
   "execution_count": 59,
   "metadata": {
    "colab": {
     "base_uri": "https://localhost:8080/"
    },
    "id": "XZl-LLhKJLIZ",
    "outputId": "e6d2270a-02d1-4074-f546-b536697d30fe"
   },
   "outputs": [],
   "source": [
    "from datasets import load_metric\n",
    "import numpy as np\n",
    "\n",
    "accuracy_metric = load_metric(\"accuracy\")\n",
    "f1_metric = load_metric(\"f1\")\n",
    "\n",
    "def compute_metrics(eval_pred):\n",
    "    predictions, labels = eval_pred\n",
    "    predictions = np.argmax(predictions, axis=1)\n",
    "    acc = accuracy_metric.compute(predictions=predictions, references=labels)\n",
    "    f1 = f1_metric.compute(predictions=predictions, references=labels, average=\"macro\")\n",
    "    return {\n",
    "        \"accuracy\": acc[\"accuracy\"],\n",
    "        \"f1\": f1[\"f1\"]\n",
    "    }"
   ]
  },
  {
   "cell_type": "markdown",
   "metadata": {},
   "source": [
    "## Teacher training"
   ]
  },
  {
   "cell_type": "code",
   "execution_count": 60,
   "metadata": {},
   "outputs": [
    {
     "name": "stderr",
     "output_type": "stream",
     "text": [
      "loading configuration file config.json from cache at /home/seungjoonpark/.cache/huggingface/hub/models--klue--roberta-base/snapshots/67dd433d36ebc66a42c9aaa85abcf8d2620e41d9/config.json\n",
      "Model config RobertaConfig {\n",
      "  \"_name_or_path\": \"klue/roberta-base\",\n",
      "  \"architectures\": [\n",
      "    \"RobertaForMaskedLM\"\n",
      "  ],\n",
      "  \"attention_probs_dropout_prob\": 0.1,\n",
      "  \"bos_token_id\": 0,\n",
      "  \"classifier_dropout\": null,\n",
      "  \"eos_token_id\": 2,\n",
      "  \"gradient_checkpointing\": false,\n",
      "  \"hidden_act\": \"gelu\",\n",
      "  \"hidden_dropout_prob\": 0.1,\n",
      "  \"hidden_size\": 768,\n",
      "  \"id2label\": {\n",
      "    \"0\": \"IT\\uacfc\\ud559\",\n",
      "    \"1\": \"\\uacbd\\uc81c\",\n",
      "    \"2\": \"\\uc0ac\\ud68c\",\n",
      "    \"3\": \"\\uc0dd\\ud65c\\ubb38\\ud654\",\n",
      "    \"4\": \"\\uc138\\uacc4\",\n",
      "    \"5\": \"\\uc2a4\\ud3ec\\uce20\",\n",
      "    \"6\": \"\\uc815\\uce58\"\n",
      "  },\n",
      "  \"initializer_range\": 0.02,\n",
      "  \"intermediate_size\": 3072,\n",
      "  \"label2id\": {\n",
      "    \"IT\\uacfc\\ud559\": \"0\",\n",
      "    \"\\uacbd\\uc81c\": \"1\",\n",
      "    \"\\uc0ac\\ud68c\": \"2\",\n",
      "    \"\\uc0dd\\ud65c\\ubb38\\ud654\": \"3\",\n",
      "    \"\\uc138\\uacc4\": \"4\",\n",
      "    \"\\uc2a4\\ud3ec\\uce20\": \"5\",\n",
      "    \"\\uc815\\uce58\": \"6\"\n",
      "  },\n",
      "  \"layer_norm_eps\": 1e-05,\n",
      "  \"max_position_embeddings\": 514,\n",
      "  \"model_type\": \"roberta\",\n",
      "  \"num_attention_heads\": 12,\n",
      "  \"num_hidden_layers\": 12,\n",
      "  \"pad_token_id\": 1,\n",
      "  \"position_embedding_type\": \"absolute\",\n",
      "  \"tokenizer_class\": \"BertTokenizer\",\n",
      "  \"transformers_version\": \"4.23.1\",\n",
      "  \"type_vocab_size\": 1,\n",
      "  \"use_cache\": true,\n",
      "  \"vocab_size\": 32000\n",
      "}\n",
      "\n",
      "loading weights file pytorch_model.bin from cache at /home/seungjoonpark/.cache/huggingface/hub/models--klue--roberta-base/snapshots/67dd433d36ebc66a42c9aaa85abcf8d2620e41d9/pytorch_model.bin\n",
      "Some weights of the model checkpoint at klue/roberta-base were not used when initializing RobertaForSequenceClassification: ['lm_head.dense.bias', 'lm_head.layer_norm.weight', 'lm_head.layer_norm.bias', 'lm_head.decoder.weight', 'lm_head.decoder.bias', 'lm_head.bias', 'lm_head.dense.weight']\n",
      "- This IS expected if you are initializing RobertaForSequenceClassification from the checkpoint of a model trained on another task or with another architecture (e.g. initializing a BertForSequenceClassification model from a BertForPreTraining model).\n",
      "- This IS NOT expected if you are initializing RobertaForSequenceClassification from the checkpoint of a model that you expect to be exactly identical (initializing a BertForSequenceClassification model from a BertForSequenceClassification model).\n",
      "Some weights of RobertaForSequenceClassification were not initialized from the model checkpoint at klue/roberta-base and are newly initialized: ['classifier.dense.weight', 'classifier.dense.bias', 'classifier.out_proj.weight', 'classifier.out_proj.bias']\n",
      "You should probably TRAIN this model on a down-stream task to be able to use it for predictions and inference.\n"
     ]
    }
   ],
   "source": [
    "from transformers import AutoModelForSequenceClassification, DataCollatorWithPadding\n",
    "from huggingface_hub import HfFolder\n",
    "\n",
    "# id2label, label2id dicts for the outputs for the model\n",
    "labels = sst2_enc[\"train\"].features[\"labels\"].names\n",
    "num_labels = len(labels)\n",
    "label2id, id2label = dict(), dict()\n",
    "for i, label in enumerate(labels):\n",
    "    label2id[label] = str(i)\n",
    "    id2label[str(i)] = label\n",
    "\n",
    "teacher_model = AutoModelForSequenceClassification.from_pretrained(\n",
    "    teacher,\n",
    "    num_labels=num_labels,\n",
    "    id2label=id2label,\n",
    "    label2id=label2id,\n",
    ")"
   ]
  },
  {
   "cell_type": "code",
   "execution_count": 61,
   "metadata": {},
   "outputs": [
    {
     "name": "stderr",
     "output_type": "stream",
     "text": [
      "PyTorch: setting up devices\n",
      "The default value for the training argument `--report_to` will change in v5 (from all installed integrations to none). In v5, you will need to use `--report_to all` to get the same behavior as now. You should start updating your code and make this info disappear :-).\n"
     ]
    }
   ],
   "source": [
    "batch_size = 128\n",
    "\n",
    "data_collator = DataCollatorWithPadding(tokenizer=tokenizer)\n",
    "\n",
    "args = TrainingArguments(\n",
    "    # checkpoint\n",
    "    output_dir='./models/',\n",
    "    # overwrite_output_dir=True,\n",
    "\n",
    "    # Model Save & Load\n",
    "    save_strategy = \"epoch\", # 'steps'\n",
    "    load_best_model_at_end=True,\n",
    "    # save_steps = 500,\n",
    "\n",
    "\n",
    "    # Dataset\n",
    "    num_train_epochs=5,\n",
    "    per_device_train_batch_size=batch_size,\n",
    "    per_device_eval_batch_size=batch_size,\n",
    "    \n",
    "    # Optimizer\n",
    "    learning_rate=2e-5, # 5e-5\n",
    "    weight_decay=0.01,  # 0\n",
    "    # warmup_steps=200,b\n",
    "\n",
    "    # Resularization\n",
    "    # max_grad_norm = 1.0,\n",
    "    # label_smoothing_factor=0.1,\n",
    "\n",
    "\n",
    "    # Evaluation \n",
    "    metric_for_best_model='eval_f1',\n",
    "    evaluation_strategy = \"epoch\",\n",
    "\n",
    "    # Randomness\n",
    "    seed=33,\n",
    ")"
   ]
  },
  {
   "cell_type": "code",
   "execution_count": 62,
   "metadata": {},
   "outputs": [],
   "source": [
    "trainer = Trainer(\n",
    "    teacher_model,\n",
    "    args,\n",
    "    train_dataset=sst2_enc[\"train\"],\n",
    "    eval_dataset=sst2_enc['validation'],\n",
    "    tokenizer=tokenizer,\n",
    "    data_collator=data_collator,\n",
    "    compute_metrics=compute_metrics,\n",
    ")"
   ]
  },
  {
   "cell_type": "code",
   "execution_count": 63,
   "metadata": {
    "scrolled": false
   },
   "outputs": [
    {
     "name": "stderr",
     "output_type": "stream",
     "text": [
      "The following columns in the training set don't have a corresponding argument in `RobertaForSequenceClassification.forward` and have been ignored: url, title, guid, date. If url, title, guid, date are not expected by `RobertaForSequenceClassification.forward`,  you can safely ignore this message.\n",
      "/home/seungjoonpark/miniconda3/envs/nlp_project/lib/python3.8/site-packages/transformers/optimization.py:306: FutureWarning: This implementation of AdamW is deprecated and will be removed in a future version. Use the PyTorch implementation torch.optim.AdamW instead, or set `no_deprecation_warning=True` to disable this warning\n",
      "  warnings.warn(\n",
      "***** Running training *****\n",
      "  Num examples = 45678\n",
      "  Num Epochs = 5\n",
      "  Instantaneous batch size per device = 128\n",
      "  Total train batch size (w. parallel, distributed & accumulation) = 128\n",
      "  Gradient Accumulation steps = 1\n",
      "  Total optimization steps = 1785\n",
      "You're using a BertTokenizerFast tokenizer. Please note that with a fast tokenizer, using the `__call__` method is faster than using a method to encode the text followed by a call to the `pad` method to get a padded encoding.\n"
     ]
    },
    {
     "data": {
      "text/html": [
       "\n",
       "    <div>\n",
       "      \n",
       "      <progress value='1785' max='1785' style='width:300px; height:20px; vertical-align: middle;'></progress>\n",
       "      [1785/1785 04:02, Epoch 5/5]\n",
       "    </div>\n",
       "    <table border=\"1\" class=\"dataframe\">\n",
       "  <thead>\n",
       " <tr style=\"text-align: left;\">\n",
       "      <th>Epoch</th>\n",
       "      <th>Training Loss</th>\n",
       "      <th>Validation Loss</th>\n",
       "      <th>Accuracy</th>\n",
       "      <th>F1</th>\n",
       "    </tr>\n",
       "  </thead>\n",
       "  <tbody>\n",
       "    <tr>\n",
       "      <td>1</td>\n",
       "      <td>No log</td>\n",
       "      <td>0.380578</td>\n",
       "      <td>0.864939</td>\n",
       "      <td>0.863106</td>\n",
       "    </tr>\n",
       "    <tr>\n",
       "      <td>2</td>\n",
       "      <td>0.454300</td>\n",
       "      <td>0.374881</td>\n",
       "      <td>0.868453</td>\n",
       "      <td>0.869221</td>\n",
       "    </tr>\n",
       "    <tr>\n",
       "      <td>3</td>\n",
       "      <td>0.274100</td>\n",
       "      <td>0.366163</td>\n",
       "      <td>0.872955</td>\n",
       "      <td>0.871441</td>\n",
       "    </tr>\n",
       "    <tr>\n",
       "      <td>4</td>\n",
       "      <td>0.274100</td>\n",
       "      <td>0.393688</td>\n",
       "      <td>0.866257</td>\n",
       "      <td>0.868697</td>\n",
       "    </tr>\n",
       "    <tr>\n",
       "      <td>5</td>\n",
       "      <td>0.211300</td>\n",
       "      <td>0.395258</td>\n",
       "      <td>0.867135</td>\n",
       "      <td>0.867941</td>\n",
       "    </tr>\n",
       "  </tbody>\n",
       "</table><p>"
      ],
      "text/plain": [
       "<IPython.core.display.HTML object>"
      ]
     },
     "metadata": {},
     "output_type": "display_data"
    },
    {
     "name": "stderr",
     "output_type": "stream",
     "text": [
      "The following columns in the evaluation set don't have a corresponding argument in `RobertaForSequenceClassification.forward` and have been ignored: url, title, guid, date. If url, title, guid, date are not expected by `RobertaForSequenceClassification.forward`,  you can safely ignore this message.\n",
      "***** Running Evaluation *****\n",
      "  Num examples = 9107\n",
      "  Batch size = 128\n",
      "Saving model checkpoint to ./models/checkpoint-357\n",
      "Configuration saved in ./models/checkpoint-357/config.json\n",
      "Model weights saved in ./models/checkpoint-357/pytorch_model.bin\n",
      "tokenizer config file saved in ./models/checkpoint-357/tokenizer_config.json\n",
      "Special tokens file saved in ./models/checkpoint-357/special_tokens_map.json\n",
      "The following columns in the evaluation set don't have a corresponding argument in `RobertaForSequenceClassification.forward` and have been ignored: url, title, guid, date. If url, title, guid, date are not expected by `RobertaForSequenceClassification.forward`,  you can safely ignore this message.\n",
      "***** Running Evaluation *****\n",
      "  Num examples = 9107\n",
      "  Batch size = 128\n",
      "Saving model checkpoint to ./models/checkpoint-714\n",
      "Configuration saved in ./models/checkpoint-714/config.json\n",
      "Model weights saved in ./models/checkpoint-714/pytorch_model.bin\n",
      "tokenizer config file saved in ./models/checkpoint-714/tokenizer_config.json\n",
      "Special tokens file saved in ./models/checkpoint-714/special_tokens_map.json\n",
      "The following columns in the evaluation set don't have a corresponding argument in `RobertaForSequenceClassification.forward` and have been ignored: url, title, guid, date. If url, title, guid, date are not expected by `RobertaForSequenceClassification.forward`,  you can safely ignore this message.\n",
      "***** Running Evaluation *****\n",
      "  Num examples = 9107\n",
      "  Batch size = 128\n",
      "Saving model checkpoint to ./models/checkpoint-1071\n",
      "Configuration saved in ./models/checkpoint-1071/config.json\n",
      "Model weights saved in ./models/checkpoint-1071/pytorch_model.bin\n",
      "tokenizer config file saved in ./models/checkpoint-1071/tokenizer_config.json\n",
      "Special tokens file saved in ./models/checkpoint-1071/special_tokens_map.json\n",
      "The following columns in the evaluation set don't have a corresponding argument in `RobertaForSequenceClassification.forward` and have been ignored: url, title, guid, date. If url, title, guid, date are not expected by `RobertaForSequenceClassification.forward`,  you can safely ignore this message.\n",
      "***** Running Evaluation *****\n",
      "  Num examples = 9107\n",
      "  Batch size = 128\n",
      "Saving model checkpoint to ./models/checkpoint-1428\n",
      "Configuration saved in ./models/checkpoint-1428/config.json\n",
      "Model weights saved in ./models/checkpoint-1428/pytorch_model.bin\n",
      "tokenizer config file saved in ./models/checkpoint-1428/tokenizer_config.json\n",
      "Special tokens file saved in ./models/checkpoint-1428/special_tokens_map.json\n",
      "The following columns in the evaluation set don't have a corresponding argument in `RobertaForSequenceClassification.forward` and have been ignored: url, title, guid, date. If url, title, guid, date are not expected by `RobertaForSequenceClassification.forward`,  you can safely ignore this message.\n",
      "***** Running Evaluation *****\n",
      "  Num examples = 9107\n",
      "  Batch size = 128\n",
      "Saving model checkpoint to ./models/checkpoint-1785\n",
      "Configuration saved in ./models/checkpoint-1785/config.json\n",
      "Model weights saved in ./models/checkpoint-1785/pytorch_model.bin\n",
      "tokenizer config file saved in ./models/checkpoint-1785/tokenizer_config.json\n",
      "Special tokens file saved in ./models/checkpoint-1785/special_tokens_map.json\n",
      "\n",
      "\n",
      "Training completed. Do not forget to share your model on huggingface.co/models =)\n",
      "\n",
      "\n",
      "Loading best model from ./models/checkpoint-1071 (score: 0.8714410954581081).\n"
     ]
    },
    {
     "data": {
      "text/plain": [
       "TrainOutput(global_step=1785, training_loss=0.291790489389115, metrics={'train_runtime': 242.5562, 'train_samples_per_second': 941.596, 'train_steps_per_second': 7.359, 'total_flos': 2753964183488100.0, 'train_loss': 0.291790489389115, 'epoch': 5.0})"
      ]
     },
     "execution_count": 63,
     "metadata": {},
     "output_type": "execute_result"
    }
   ],
   "source": [
    "trainer.train()"
   ]
  },
  {
   "cell_type": "markdown",
   "metadata": {
    "id": "zouXYIx0hnd0"
   },
   "source": [
    "## Defining the Training Arguments"
   ]
  },
  {
   "cell_type": "code",
   "execution_count": 64,
   "metadata": {},
   "outputs": [],
   "source": [
    "from transformers import DistilBertConfig\n",
    "from transformers import AutoConfig, AutoModel"
   ]
  },
  {
   "cell_type": "code",
   "execution_count": 65,
   "metadata": {
    "colab": {
     "base_uri": "https://localhost:8080/"
    },
    "id": "hv-Et_22JOgk",
    "outputId": "c9d89407-8216-4807-dcc0-5afa607f6a04"
   },
   "outputs": [
    {
     "name": "stderr",
     "output_type": "stream",
     "text": [
      "PyTorch: setting up devices\n",
      "loading configuration file config.json from cache at /home/seungjoonpark/.cache/huggingface/hub/models--distilroberta-base/snapshots/d5411c3ee9e1793fd9ef58390b40a80a4c10df32/config.json\n",
      "Model config RobertaConfig {\n",
      "  \"_name_or_path\": \"distilroberta-base\",\n",
      "  \"architectures\": [\n",
      "    \"RobertaForMaskedLM\"\n",
      "  ],\n",
      "  \"attention_probs_dropout_prob\": 0.1,\n",
      "  \"bos_token_id\": 0,\n",
      "  \"classifier_dropout\": null,\n",
      "  \"eos_token_id\": 2,\n",
      "  \"hidden_act\": \"gelu\",\n",
      "  \"hidden_dropout_prob\": 0.1,\n",
      "  \"hidden_size\": 768,\n",
      "  \"id2label\": {\n",
      "    \"0\": \"IT\\uacfc\\ud559\",\n",
      "    \"1\": \"\\uacbd\\uc81c\",\n",
      "    \"2\": \"\\uc0ac\\ud68c\",\n",
      "    \"3\": \"\\uc0dd\\ud65c\\ubb38\\ud654\",\n",
      "    \"4\": \"\\uc138\\uacc4\",\n",
      "    \"5\": \"\\uc2a4\\ud3ec\\uce20\",\n",
      "    \"6\": \"\\uc815\\uce58\"\n",
      "  },\n",
      "  \"initializer_range\": 0.02,\n",
      "  \"intermediate_size\": 3072,\n",
      "  \"label2id\": {\n",
      "    \"IT\\uacfc\\ud559\": \"0\",\n",
      "    \"\\uacbd\\uc81c\": \"1\",\n",
      "    \"\\uc0ac\\ud68c\": \"2\",\n",
      "    \"\\uc0dd\\ud65c\\ubb38\\ud654\": \"3\",\n",
      "    \"\\uc138\\uacc4\": \"4\",\n",
      "    \"\\uc2a4\\ud3ec\\uce20\": \"5\",\n",
      "    \"\\uc815\\uce58\": \"6\"\n",
      "  },\n",
      "  \"layer_norm_eps\": 1e-05,\n",
      "  \"max_position_embeddings\": 514,\n",
      "  \"model_type\": \"roberta\",\n",
      "  \"num_attention_heads\": 12,\n",
      "  \"num_hidden_layers\": 6,\n",
      "  \"pad_token_id\": 1,\n",
      "  \"position_embedding_type\": \"absolute\",\n",
      "  \"transformers_version\": \"4.23.1\",\n",
      "  \"type_vocab_size\": 1,\n",
      "  \"use_cache\": true,\n",
      "  \"vocab_size\": 50265\n",
      "}\n",
      "\n",
      "loading weights file pytorch_model.bin from cache at /home/seungjoonpark/.cache/huggingface/hub/models--distilroberta-base/snapshots/d5411c3ee9e1793fd9ef58390b40a80a4c10df32/pytorch_model.bin\n",
      "Some weights of the model checkpoint at distilroberta-base were not used when initializing RobertaForSequenceClassification: ['lm_head.dense.bias', 'lm_head.layer_norm.weight', 'roberta.pooler.dense.bias', 'lm_head.layer_norm.bias', 'lm_head.decoder.weight', 'lm_head.bias', 'lm_head.dense.weight', 'roberta.pooler.dense.weight']\n",
      "- This IS expected if you are initializing RobertaForSequenceClassification from the checkpoint of a model trained on another task or with another architecture (e.g. initializing a BertForSequenceClassification model from a BertForPreTraining model).\n",
      "- This IS NOT expected if you are initializing RobertaForSequenceClassification from the checkpoint of a model that you expect to be exactly identical (initializing a BertForSequenceClassification model from a BertForSequenceClassification model).\n",
      "Some weights of RobertaForSequenceClassification were not initialized from the model checkpoint at distilroberta-base and are newly initialized: ['classifier.dense.weight', 'classifier.out_proj.bias', 'classifier.dense.bias', 'classifier.out_proj.weight']\n",
      "You should probably TRAIN this model on a down-stream task to be able to use it for predictions and inference.\n"
     ]
    },
    {
     "data": {
      "text/plain": [
       "Embedding(32000, 768)"
      ]
     },
     "execution_count": 65,
     "metadata": {},
     "output_type": "execute_result"
    }
   ],
   "source": [
    "from transformers import AutoModelForSequenceClassification, DataCollatorWithPadding\n",
    "from huggingface_hub import HfFolder\n",
    "\n",
    "# id2label, label2id dicts for the outputs for the model\n",
    "labels = sst2_enc[\"train\"].features[\"labels\"].names\n",
    "num_labels = len(labels)\n",
    "label2id, id2label = dict(), dict()\n",
    "for i, label in enumerate(labels):\n",
    "    label2id[label] = str(i)\n",
    "    id2label[str(i)] = label\n",
    "\n",
    "# my_config = DistilBertConfig(activation=\"gelu\", attention_dropout=0.4, vocab_size=32000, n_layers=6, num_labels=6,\n",
    "#                              hidden_dim=768, label2id=label2id, id2label=id2label)\n",
    "# my_config.save_pretrained(save_directory='./models/distilkoroberta')    \n",
    "\n",
    "# training arguments\n",
    "training_args = DistillationTrainingArguments(\n",
    "    output_dir=\"distilroberta-base-sst2-distilled\",\n",
    "    num_train_epochs=7, per_device_train_batch_size=128,\n",
    "    per_device_eval_batch_size=128, fp16=True, \n",
    "    learning_rate=6e-5, seed=33, \n",
    "    logging_dir=f\"distilroberta-base-sst2-distilled/logs\",\n",
    "    logging_strategy=\"epoch\", evaluation_strategy=\"epoch\",\n",
    "    save_strategy=\"epoch\", save_total_limit=2, \n",
    "    load_best_model_at_end=True, metric_for_best_model=\"accuracy\", \n",
    "    report_to=\"tensorboard\", push_to_hub=False,\n",
    "    alpha=0.5, temperature=4.0\n",
    "    )\n",
    "\n",
    "# data_collator\n",
    "data_collator = DataCollatorWithPadding(tokenizer=tokenizer)\n",
    "\n",
    "# # teacher model\n",
    "# teacher_model = AutoModelForSequenceClassification.from_pretrained(\n",
    "#     teacher,\n",
    "#     num_labels=num_labels,\n",
    "#     id2label=id2label,\n",
    "#     label2id=label2id,\n",
    "# )\n",
    "\n",
    "# student model\n",
    "student_model = AutoModelForSequenceClassification.from_pretrained(\n",
    "    student,\n",
    "    num_labels=num_labels,\n",
    "    id2label=id2label,\n",
    "    label2id=label2id,\n",
    ")\n",
    "student_model.resize_token_embeddings(32000)"
   ]
  },
  {
   "cell_type": "code",
   "execution_count": 74,
   "metadata": {},
   "outputs": [
    {
     "data": {
      "text/plain": [
       "Parameter containing:\n",
       "tensor([[ 0.0036, -0.0430,  0.0020,  ...,  0.0036, -0.0055, -0.0118],\n",
       "        [ 0.0243, -0.0885, -0.0024,  ..., -0.0571, -0.0235, -0.0319],\n",
       "        [-0.0185, -0.0489, -0.0229,  ...,  0.0017,  0.0070,  0.0034],\n",
       "        ...,\n",
       "        [ 0.0322, -0.0427,  0.0123,  ...,  0.0168, -0.0030, -0.0355],\n",
       "        [-0.0003, -0.0200,  0.0009,  ..., -0.0153, -0.0111, -0.0293],\n",
       "        [ 0.0249, -0.0252,  0.0055,  ..., -0.0126,  0.0045,  0.0103]],\n",
       "       device='cuda:0', requires_grad=True)"
      ]
     },
     "execution_count": 74,
     "metadata": {},
     "output_type": "execute_result"
    }
   ],
   "source": [
    "next(iter(teacher_model.parameters()))"
   ]
  },
  {
   "cell_type": "markdown",
   "metadata": {},
   "source": [
    "## Student Initialization"
   ]
  },
  {
   "cell_type": "code",
   "execution_count": 81,
   "metadata": {},
   "outputs": [],
   "source": [
    "student_weights = []\n",
    "for i, p in enumerate(student_model.parameters()):\n",
    "    student_weights.append(p)"
   ]
  },
  {
   "cell_type": "code",
   "execution_count": 82,
   "metadata": {},
   "outputs": [],
   "source": [
    "# initialized one layer out of two\n",
    "teacher_weights = []\n",
    "for i, p in enumerate(teacher_model.parameters()):\n",
    "    teacher_weights.append(p)"
   ]
  },
  {
   "cell_type": "code",
   "execution_count": 101,
   "metadata": {},
   "outputs": [
    {
     "data": {
      "text/plain": [
       "tensor([[ 0.0177, -0.0280,  0.0043,  ..., -0.0383,  0.0177, -0.0010],\n",
       "        [ 0.0034,  0.0023, -0.0018,  ..., -0.0071, -0.0086, -0.0144],\n",
       "        [-0.0032, -0.0144, -0.0056,  ..., -0.0371, -0.0054, -0.0056],\n",
       "        ...,\n",
       "        [-0.0097,  0.0174,  0.0254,  ...,  0.0219,  0.0358,  0.0133],\n",
       "        [-0.0014, -0.0157,  0.0231,  ...,  0.0227,  0.0201, -0.0181],\n",
       "        [ 0.0169,  0.0125, -0.0289,  ...,  0.0180, -0.0100, -0.0104]],\n",
       "       device='cuda:0')"
      ]
     },
     "execution_count": 101,
     "metadata": {},
     "output_type": "execute_result"
    }
   ],
   "source": [
    "# First and last layers\n",
    "student_weights[0].data.copy_(teacher_weights[0].data)\n",
    "student_weights[1].data.copy_(teacher_weights[1].data)\n",
    "student_weights[2].data.copy_(teacher_weights[2].data)\n",
    "student_weights[-1].data.copy_(teacher_weights[-1].data)\n",
    "student_weights[-2].data.copy_(teacher_weights[-2].data)"
   ]
  },
  {
   "cell_type": "code",
   "execution_count": 102,
   "metadata": {},
   "outputs": [],
   "source": [
    "base = 3\n",
    "for i in range(12):\n",
    "    if i % 2 == 1:\n",
    "        std_idx = i // 2\n",
    "        for j in range(16):\n",
    "            student_weights[base+std_idx*16+j].data.copy_(teacher_weights[base+i*16+j].data)"
   ]
  },
  {
   "cell_type": "code",
   "execution_count": 66,
   "metadata": {},
   "outputs": [],
   "source": [
    "def get_n_params(model):\n",
    "    pp=0\n",
    "    for p in list(model.parameters()):\n",
    "        nn=1\n",
    "        for s in list(p.size()):\n",
    "            nn = nn*s\n",
    "        pp += nn\n",
    "    return pp"
   ]
  },
  {
   "cell_type": "code",
   "execution_count": 67,
   "metadata": {
    "scrolled": true
   },
   "outputs": [
    {
     "data": {
      "text/plain": [
       "68096263"
      ]
     },
     "execution_count": 67,
     "metadata": {},
     "output_type": "execute_result"
    }
   ],
   "source": [
    "get_n_params(student_model)"
   ]
  },
  {
   "cell_type": "code",
   "execution_count": 68,
   "metadata": {},
   "outputs": [
    {
     "data": {
      "text/plain": [
       "110623495"
      ]
     },
     "execution_count": 68,
     "metadata": {},
     "output_type": "execute_result"
    }
   ],
   "source": [
    "get_n_params(teacher_model)"
   ]
  },
  {
   "cell_type": "markdown",
   "metadata": {
    "id": "UWpFJ4gKiEri"
   },
   "source": [
    "## Training"
   ]
  },
  {
   "cell_type": "code",
   "execution_count": 116,
   "metadata": {},
   "outputs": [
    {
     "name": "stderr",
     "output_type": "stream",
     "text": [
      "PyTorch: setting up devices\n"
     ]
    }
   ],
   "source": [
    "### to continue learning\n",
    "\n",
    "training_args = DistillationTrainingArguments(\n",
    "    output_dir=\"distilroberta-base-sst2-distilled\",\n",
    "    num_train_epochs=5, per_device_train_batch_size=128,\n",
    "    per_device_eval_batch_size=128, fp16=True, \n",
    "    learning_rate=6e-5, seed=33, \n",
    "    logging_dir=f\"distilroberta-base-sst2-distilled/logs\",\n",
    "    logging_strategy=\"epoch\", evaluation_strategy=\"epoch\",\n",
    "    save_strategy=\"epoch\", save_total_limit=2, \n",
    "    load_best_model_at_end=True, metric_for_best_model=\"accuracy\", \n",
    "    report_to=\"tensorboard\", push_to_hub=False,\n",
    "    alpha=0.5, temperature=4.0\n",
    "    )"
   ]
  },
  {
   "cell_type": "code",
   "execution_count": 45,
   "metadata": {},
   "outputs": [
    {
     "name": "stderr",
     "output_type": "stream",
     "text": [
      "PyTorch: setting up devices\n"
     ]
    }
   ],
   "source": [
    "### fine tune after 5 epochs\n",
    "\n",
    "training_args = DistillationTrainingArguments(\n",
    "    output_dir=\"distilroberta-base-sst2-distilled\",\n",
    "    num_train_epochs=10, per_device_train_batch_size=128,\n",
    "    per_device_eval_batch_size=128, fp16=True, \n",
    "    learning_rate=2e-5, # 5e-5\n",
    "    weight_decay=0.01,seed=33, \n",
    "    logging_dir=f\"distilroberta-base-sst2-distilled/logs\",\n",
    "    logging_strategy=\"epoch\", evaluation_strategy=\"epoch\",\n",
    "    save_strategy=\"epoch\", save_total_limit=2, \n",
    "    load_best_model_at_end=True, metric_for_best_model=\"accuracy\", \n",
    "    report_to=\"tensorboard\", push_to_hub=False,\n",
    "    alpha=0.5, temperature=4.0\n",
    "    )"
   ]
  },
  {
   "cell_type": "code",
   "execution_count": 51,
   "metadata": {},
   "outputs": [
    {
     "name": "stderr",
     "output_type": "stream",
     "text": [
      "PyTorch: setting up devices\n"
     ]
    }
   ],
   "source": [
    "### fine-fine tune after 15 epochs\n",
    "\n",
    "training_args = DistillationTrainingArguments(\n",
    "    output_dir=\"distilroberta-base-sst2-distilled\",\n",
    "    num_train_epochs=20, per_device_train_batch_size=128,\n",
    "    per_device_eval_batch_size=128, fp16=True, \n",
    "    learning_rate=1e-5, # 5e-5\n",
    "    weight_decay=0.01,seed=33, \n",
    "    logging_dir=f\"distilroberta-base-sst2-distilled/logs\",\n",
    "    logging_strategy=\"epoch\", evaluation_strategy=\"epoch\",\n",
    "    save_strategy=\"epoch\", save_total_limit=2, \n",
    "    load_best_model_at_end=True, metric_for_best_model=\"accuracy\", \n",
    "    report_to=\"tensorboard\", push_to_hub=False,\n",
    "    alpha=0.5, temperature=4.0\n",
    "    )"
   ]
  },
  {
   "cell_type": "code",
   "execution_count": 117,
   "metadata": {
    "colab": {
     "base_uri": "https://localhost:8080/"
    },
    "id": "C94kC2PqLaP_",
    "outputId": "521b7405-56b7-4d3d-eac5-3e7d74cc0242"
   },
   "outputs": [
    {
     "name": "stderr",
     "output_type": "stream",
     "text": [
      "Using cuda_amp half precision backend\n"
     ]
    }
   ],
   "source": [
    "trainer = DistillationTrainer(\n",
    "    student_model,\n",
    "    training_args,\n",
    "    teacher_model=teacher_model,\n",
    "    train_dataset=sst2_enc[\"train\"],\n",
    "    eval_dataset=sst2_enc[\"validation\"],\n",
    "    data_collator=data_collator,\n",
    "    tokenizer=tokenizer,\n",
    "    compute_metrics=compute_metrics,\n",
    ")"
   ]
  },
  {
   "cell_type": "code",
   "execution_count": 118,
   "metadata": {
    "colab": {
     "base_uri": "https://localhost:8080/",
     "height": 1000
    },
    "id": "GLvdvmOFLeuG",
    "outputId": "a7894862-1460-4d79-e24b-a635e2f1ee8d"
   },
   "outputs": [
    {
     "name": "stderr",
     "output_type": "stream",
     "text": [
      "The following columns in the training set don't have a corresponding argument in `RobertaForSequenceClassification.forward` and have been ignored: url, title, guid, date. If url, title, guid, date are not expected by `RobertaForSequenceClassification.forward`,  you can safely ignore this message.\n",
      "/home/seungjoonpark/miniconda3/envs/nlp_project/lib/python3.8/site-packages/transformers/optimization.py:306: FutureWarning: This implementation of AdamW is deprecated and will be removed in a future version. Use the PyTorch implementation torch.optim.AdamW instead, or set `no_deprecation_warning=True` to disable this warning\n",
      "  warnings.warn(\n",
      "***** Running training *****\n",
      "  Num examples = 45678\n",
      "  Num Epochs = 5\n",
      "  Instantaneous batch size per device = 128\n",
      "  Total train batch size (w. parallel, distributed & accumulation) = 128\n",
      "  Gradient Accumulation steps = 1\n",
      "  Total optimization steps = 1785\n"
     ]
    },
    {
     "data": {
      "text/html": [
       "\n",
       "    <div>\n",
       "      \n",
       "      <progress value='1785' max='1785' style='width:300px; height:20px; vertical-align: middle;'></progress>\n",
       "      [1785/1785 02:33, Epoch 5/5]\n",
       "    </div>\n",
       "    <table border=\"1\" class=\"dataframe\">\n",
       "  <thead>\n",
       " <tr style=\"text-align: left;\">\n",
       "      <th>Epoch</th>\n",
       "      <th>Training Loss</th>\n",
       "      <th>Validation Loss</th>\n",
       "      <th>Accuracy</th>\n",
       "      <th>F1</th>\n",
       "    </tr>\n",
       "  </thead>\n",
       "  <tbody>\n",
       "    <tr>\n",
       "      <td>1</td>\n",
       "      <td>0.486900</td>\n",
       "      <td>0.378231</td>\n",
       "      <td>0.841550</td>\n",
       "      <td>0.841096</td>\n",
       "    </tr>\n",
       "    <tr>\n",
       "      <td>2</td>\n",
       "      <td>0.223100</td>\n",
       "      <td>0.330569</td>\n",
       "      <td>0.851104</td>\n",
       "      <td>0.850855</td>\n",
       "    </tr>\n",
       "    <tr>\n",
       "      <td>3</td>\n",
       "      <td>0.163000</td>\n",
       "      <td>0.337348</td>\n",
       "      <td>0.846711</td>\n",
       "      <td>0.848031</td>\n",
       "    </tr>\n",
       "    <tr>\n",
       "      <td>4</td>\n",
       "      <td>0.134200</td>\n",
       "      <td>0.333129</td>\n",
       "      <td>0.845833</td>\n",
       "      <td>0.847299</td>\n",
       "    </tr>\n",
       "    <tr>\n",
       "      <td>5</td>\n",
       "      <td>0.115700</td>\n",
       "      <td>0.320828</td>\n",
       "      <td>0.851543</td>\n",
       "      <td>0.851922</td>\n",
       "    </tr>\n",
       "  </tbody>\n",
       "</table><p>"
      ],
      "text/plain": [
       "<IPython.core.display.HTML object>"
      ]
     },
     "metadata": {},
     "output_type": "display_data"
    },
    {
     "name": "stderr",
     "output_type": "stream",
     "text": [
      "The following columns in the evaluation set don't have a corresponding argument in `RobertaForSequenceClassification.forward` and have been ignored: url, title, guid, date. If url, title, guid, date are not expected by `RobertaForSequenceClassification.forward`,  you can safely ignore this message.\n",
      "***** Running Evaluation *****\n",
      "  Num examples = 9107\n",
      "  Batch size = 128\n",
      "Saving model checkpoint to distilroberta-base-sst2-distilled/checkpoint-357\n",
      "Configuration saved in distilroberta-base-sst2-distilled/checkpoint-357/config.json\n",
      "Model weights saved in distilroberta-base-sst2-distilled/checkpoint-357/pytorch_model.bin\n",
      "tokenizer config file saved in distilroberta-base-sst2-distilled/checkpoint-357/tokenizer_config.json\n",
      "Special tokens file saved in distilroberta-base-sst2-distilled/checkpoint-357/special_tokens_map.json\n",
      "Deleting older checkpoint [distilroberta-base-sst2-distilled/checkpoint-1428] due to args.save_total_limit\n",
      "The following columns in the evaluation set don't have a corresponding argument in `RobertaForSequenceClassification.forward` and have been ignored: url, title, guid, date. If url, title, guid, date are not expected by `RobertaForSequenceClassification.forward`,  you can safely ignore this message.\n",
      "***** Running Evaluation *****\n",
      "  Num examples = 9107\n",
      "  Batch size = 128\n",
      "Saving model checkpoint to distilroberta-base-sst2-distilled/checkpoint-714\n",
      "Configuration saved in distilroberta-base-sst2-distilled/checkpoint-714/config.json\n",
      "Model weights saved in distilroberta-base-sst2-distilled/checkpoint-714/pytorch_model.bin\n",
      "tokenizer config file saved in distilroberta-base-sst2-distilled/checkpoint-714/tokenizer_config.json\n",
      "Special tokens file saved in distilroberta-base-sst2-distilled/checkpoint-714/special_tokens_map.json\n",
      "Deleting older checkpoint [distilroberta-base-sst2-distilled/checkpoint-1785] due to args.save_total_limit\n",
      "The following columns in the evaluation set don't have a corresponding argument in `RobertaForSequenceClassification.forward` and have been ignored: url, title, guid, date. If url, title, guid, date are not expected by `RobertaForSequenceClassification.forward`,  you can safely ignore this message.\n",
      "***** Running Evaluation *****\n",
      "  Num examples = 9107\n",
      "  Batch size = 128\n",
      "Saving model checkpoint to distilroberta-base-sst2-distilled/checkpoint-1071\n",
      "Configuration saved in distilroberta-base-sst2-distilled/checkpoint-1071/config.json\n",
      "Model weights saved in distilroberta-base-sst2-distilled/checkpoint-1071/pytorch_model.bin\n",
      "tokenizer config file saved in distilroberta-base-sst2-distilled/checkpoint-1071/tokenizer_config.json\n",
      "Special tokens file saved in distilroberta-base-sst2-distilled/checkpoint-1071/special_tokens_map.json\n",
      "Deleting older checkpoint [distilroberta-base-sst2-distilled/checkpoint-357] due to args.save_total_limit\n",
      "The following columns in the evaluation set don't have a corresponding argument in `RobertaForSequenceClassification.forward` and have been ignored: url, title, guid, date. If url, title, guid, date are not expected by `RobertaForSequenceClassification.forward`,  you can safely ignore this message.\n",
      "***** Running Evaluation *****\n",
      "  Num examples = 9107\n",
      "  Batch size = 128\n",
      "Saving model checkpoint to distilroberta-base-sst2-distilled/checkpoint-1428\n",
      "Configuration saved in distilroberta-base-sst2-distilled/checkpoint-1428/config.json\n",
      "Model weights saved in distilroberta-base-sst2-distilled/checkpoint-1428/pytorch_model.bin\n",
      "tokenizer config file saved in distilroberta-base-sst2-distilled/checkpoint-1428/tokenizer_config.json\n",
      "Special tokens file saved in distilroberta-base-sst2-distilled/checkpoint-1428/special_tokens_map.json\n",
      "Deleting older checkpoint [distilroberta-base-sst2-distilled/checkpoint-1071] due to args.save_total_limit\n",
      "The following columns in the evaluation set don't have a corresponding argument in `RobertaForSequenceClassification.forward` and have been ignored: url, title, guid, date. If url, title, guid, date are not expected by `RobertaForSequenceClassification.forward`,  you can safely ignore this message.\n",
      "***** Running Evaluation *****\n",
      "  Num examples = 9107\n",
      "  Batch size = 128\n",
      "Saving model checkpoint to distilroberta-base-sst2-distilled/checkpoint-1785\n",
      "Configuration saved in distilroberta-base-sst2-distilled/checkpoint-1785/config.json\n",
      "Model weights saved in distilroberta-base-sst2-distilled/checkpoint-1785/pytorch_model.bin\n",
      "tokenizer config file saved in distilroberta-base-sst2-distilled/checkpoint-1785/tokenizer_config.json\n",
      "Special tokens file saved in distilroberta-base-sst2-distilled/checkpoint-1785/special_tokens_map.json\n",
      "Deleting older checkpoint [distilroberta-base-sst2-distilled/checkpoint-714] due to args.save_total_limit\n",
      "\n",
      "\n",
      "Training completed. Do not forget to share your model on huggingface.co/models =)\n",
      "\n",
      "\n",
      "Loading best model from distilroberta-base-sst2-distilled/checkpoint-1785 (score: 0.8515427692983419).\n"
     ]
    },
    {
     "data": {
      "text/plain": [
       "TrainOutput(global_step=1785, training_loss=0.22458509557387407, metrics={'train_runtime': 153.2436, 'train_samples_per_second': 1490.372, 'train_steps_per_second': 11.648, 'total_flos': 1386587964190308.0, 'train_loss': 0.22458509557387407, 'epoch': 5.0})"
      ]
     },
     "execution_count": 118,
     "metadata": {},
     "output_type": "execute_result"
    }
   ],
   "source": [
    "trainer.train()"
   ]
  },
  {
   "cell_type": "code",
   "execution_count": 80,
   "metadata": {
    "scrolled": true
   },
   "outputs": [
    {
     "name": "stderr",
     "output_type": "stream",
     "text": [
      "The following columns in the test set don't have a corresponding argument in `RobertaForSequenceClassification.forward` and have been ignored: date, url, guid, title. If date, url, guid, title are not expected by `RobertaForSequenceClassification.forward`,  you can safely ignore this message.\n",
      "***** Running Prediction *****\n",
      "  Num examples = 9107\n",
      "  Batch size = 128\n"
     ]
    },
    {
     "data": {
      "text/plain": [
       "PredictionOutput(predictions=array([[-0.522  ,  0.3865 ,  1.589  , ..., -0.658  , -0.1364 , -0.2896 ],\n",
       "       [-0.11487, -0.2751 ,  1.585  , ..., -0.4258 , -0.299  , -0.6475 ],\n",
       "       [ 1.933  , -0.3606 , -0.4126 , ..., -0.7666 , -0.4277 , -0.8433 ],\n",
       "       ...,\n",
       "       [-0.449  ,  2.162  ,  0.00257, ..., -0.663  , -0.189  , -0.6562 ],\n",
       "       [-0.3943 , -0.367  ,  0.5215 , ..., -0.6104 , -0.1552 ,  1.551  ],\n",
       "       [-0.0561 , -0.0857 ,  1.735  , ..., -0.631  , -0.2815 , -0.7334 ]],\n",
       "      dtype=float16), label_ids=array([2, 2, 0, ..., 1, 2, 2]), metrics={'test_loss': 0.6452500224113464, 'test_accuracy': 0.7399802349840782, 'test_f1': 0.7435589759388572, 'test_runtime': 5.6688, 'test_samples_per_second': 1606.519, 'test_steps_per_second': 12.701})"
      ]
     },
     "execution_count": 80,
     "metadata": {},
     "output_type": "execute_result"
    }
   ],
   "source": [
    "trainer.predict(sst2_enc[\"validation\"])"
   ]
  },
  {
   "cell_type": "code",
   "execution_count": 92,
   "metadata": {},
   "outputs": [
    {
     "name": "stderr",
     "output_type": "stream",
     "text": [
      "Using cuda_amp half precision backend\n"
     ]
    }
   ],
   "source": [
    "teacher_trainer = Trainer(teacher_model,\n",
    "                          training_args,\n",
    "                          train_dataset=sst2_enc[\"train\"],\n",
    "                          eval_dataset=sst2_enc[\"validation\"],\n",
    "                          data_collator=data_collator,\n",
    "                          tokenizer=tokenizer,\n",
    "                          compute_metrics=compute_metrics,\n",
    ")"
   ]
  },
  {
   "cell_type": "code",
   "execution_count": 93,
   "metadata": {},
   "outputs": [
    {
     "name": "stderr",
     "output_type": "stream",
     "text": [
      "The following columns in the test set don't have a corresponding argument in `RobertaForSequenceClassification.forward` and have been ignored: date, url, guid, title. If date, url, guid, title are not expected by `RobertaForSequenceClassification.forward`,  you can safely ignore this message.\n",
      "***** Running Prediction *****\n",
      "  Num examples = 9107\n",
      "  Batch size = 128\n"
     ]
    },
    {
     "data": {
      "text/html": [],
      "text/plain": [
       "<IPython.core.display.HTML object>"
      ]
     },
     "metadata": {},
     "output_type": "display_data"
    },
    {
     "data": {
      "text/plain": [
       "PredictionOutput(predictions=array([[-0.0807   ,  0.06683  , -0.1285   , ..., -0.1998   , -0.01917  ,\n",
       "         0.2115   ],\n",
       "       [-0.04584  ,  0.05133  , -0.1257   , ..., -0.1967   , -0.00482  ,\n",
       "         0.1298   ],\n",
       "       [-0.06143  ,  0.03072  , -0.12085  , ..., -0.1919   ,  0.001556 ,\n",
       "         0.156    ],\n",
       "       ...,\n",
       "       [-0.01717  ,  0.03693  , -0.0747   , ..., -0.2244   , -0.005684 ,\n",
       "         0.2134   ],\n",
       "       [-0.00798  ,  0.0007324, -0.0988   , ..., -0.1871   ,  0.02452  ,\n",
       "         0.1796   ],\n",
       "       [-0.03482  ,  0.03702  , -0.09393  , ..., -0.207    ,  0.03168  ,\n",
       "         0.1791   ]], dtype=float16), label_ids=array([2, 2, 0, ..., 1, 2, 2]), metrics={'test_loss': 1.980555772781372, 'test_accuracy': 0.08850334907214231, 'test_f1': 0.04291214094162216, 'test_runtime': 5.4877, 'test_samples_per_second': 1659.518, 'test_steps_per_second': 13.12})"
      ]
     },
     "execution_count": 93,
     "metadata": {},
     "output_type": "execute_result"
    }
   ],
   "source": [
    "teacher_trainer.predict(sst2_enc[\"validation\"])"
   ]
  },
  {
   "cell_type": "code",
   "execution_count": 94,
   "metadata": {},
   "outputs": [],
   "source": [
    "torch.save(student_model.state_dict(), './models/distilkoroberta_first_7epochs.pt')"
   ]
  },
  {
   "cell_type": "code",
   "execution_count": 34,
   "metadata": {},
   "outputs": [],
   "source": [
    "from copy import deepcopy"
   ]
  },
  {
   "cell_type": "markdown",
   "metadata": {},
   "source": [
    "# Fine Tuning on Downstream Tasks"
   ]
  },
  {
   "cell_type": "markdown",
   "metadata": {},
   "source": [
    "## NLI"
   ]
  },
  {
   "cell_type": "code",
   "execution_count": 125,
   "metadata": {},
   "outputs": [],
   "source": [
    "baseline = deepcopy(student_model)"
   ]
  },
  {
   "cell_type": "code",
   "execution_count": 38,
   "metadata": {},
   "outputs": [
    {
     "name": "stdout",
     "output_type": "stream",
     "text": [
      "Downloading and preparing dataset klue/nli (download: 1.20 MiB, generated: 6.10 MiB, post-processed: Unknown size, total: 7.30 MiB) to /home/seungjoonpark/.cache/huggingface/datasets/klue/nli/1.0.0/e0fc3bc3de3eb03be2c92d72fd04a60ecc71903f821619cb28ca0e1e29e4233e...\n"
     ]
    },
    {
     "name": "stderr",
     "output_type": "stream",
     "text": [
      "Downloading data: 100%|██████████| 1.26M/1.26M [00:00<00:00, 6.19MB/s]\n",
      "                                                                                          \r"
     ]
    },
    {
     "name": "stdout",
     "output_type": "stream",
     "text": [
      "Dataset klue downloaded and prepared to /home/seungjoonpark/.cache/huggingface/datasets/klue/nli/1.0.0/e0fc3bc3de3eb03be2c92d72fd04a60ecc71903f821619cb28ca0e1e29e4233e. Subsequent calls will reuse this data.\n"
     ]
    },
    {
     "name": "stderr",
     "output_type": "stream",
     "text": [
      "100%|██████████| 2/2 [00:00<00:00, 422.51it/s]\n"
     ]
    }
   ],
   "source": [
    "datasets = load_dataset(\"klue\", 'nli')"
   ]
  },
  {
   "cell_type": "code",
   "execution_count": 39,
   "metadata": {},
   "outputs": [
    {
     "name": "stderr",
     "output_type": "stream",
     "text": [
      "Downloading builder script: 5.76kB [00:00, 2.14MB/s]                   \n"
     ]
    }
   ],
   "source": [
    "metric = load_metric(\"glue\", \"qnli\")"
   ]
  },
  {
   "cell_type": "code",
   "execution_count": 45,
   "metadata": {},
   "outputs": [
    {
     "data": {
      "text/plain": [
       "PreTrainedTokenizerFast(name_or_path='klue/roberta-large', vocab_size=32000, model_max_len=512, is_fast=True, padding_side='right', truncation_side='right', special_tokens={'bos_token': '[CLS]', 'eos_token': '[SEP]', 'unk_token': '[UNK]', 'sep_token': '[SEP]', 'pad_token': '[PAD]', 'cls_token': '[CLS]', 'mask_token': '[MASK]'})"
      ]
     },
     "execution_count": 45,
     "metadata": {},
     "output_type": "execute_result"
    }
   ],
   "source": [
    "tokenizer"
   ]
  },
  {
   "cell_type": "code",
   "execution_count": 48,
   "metadata": {},
   "outputs": [
    {
     "name": "stdout",
     "output_type": "stream",
     "text": [
      "Sentence 1: 힛걸 진심 최고다 그 어떤 히어로보다 멋지다\n",
      "Sentence 2: 힛걸 진심 최고로 멋지다.\n"
     ]
    }
   ],
   "source": [
    "sentence1_key, sentence2_key = (\"premise\", \"hypothesis\")\n",
    "print(f\"Sentence 1: {datasets['train'][0][sentence1_key]}\")\n",
    "print(f\"Sentence 2: {datasets['train'][0][sentence2_key]}\")"
   ]
  },
  {
   "cell_type": "code",
   "execution_count": 49,
   "metadata": {},
   "outputs": [
    {
     "name": "stderr",
     "output_type": "stream",
     "text": [
      " 96%|█████████▌| 24/25 [00:01<00:00, 21.61ba/s]\n",
      " 67%|██████▋   | 2/3 [00:00<00:00, 15.01ba/s]\n"
     ]
    }
   ],
   "source": [
    "def preprocess_function(examples):\n",
    "    return tokenizer(\n",
    "        examples[sentence1_key],\n",
    "        examples[sentence2_key],\n",
    "        truncation=True,\n",
    "        return_token_type_ids=False,\n",
    "    )\n",
    "\n",
    "encoded_datasets = datasets.map(preprocess_function, batched=True)"
   ]
  },
  {
   "cell_type": "code",
   "execution_count": 117,
   "metadata": {},
   "outputs": [
    {
     "data": {
      "text/plain": [
       "DistilBertConfig {\n",
       "  \"activation\": \"relu\",\n",
       "  \"attention_dropout\": 0.4,\n",
       "  \"dim\": 768,\n",
       "  \"dropout\": 0.1,\n",
       "  \"hidden_dim\": 3072,\n",
       "  \"id2label\": {\n",
       "    \"0\": \"LABEL_0\",\n",
       "    \"1\": \"LABEL_1\",\n",
       "    \"2\": \"LABEL_2\"\n",
       "  },\n",
       "  \"initializer_range\": 0.02,\n",
       "  \"label2id\": {\n",
       "    \"LABEL_0\": 0,\n",
       "    \"LABEL_1\": 1,\n",
       "    \"LABEL_2\": 2\n",
       "  },\n",
       "  \"max_position_embeddings\": 512,\n",
       "  \"model_type\": \"distilbert\",\n",
       "  \"n_heads\": 12,\n",
       "  \"n_layers\": 6,\n",
       "  \"pad_token_id\": 0,\n",
       "  \"qa_dropout\": 0.1,\n",
       "  \"seq_classif_dropout\": 0.2,\n",
       "  \"sinusoidal_pos_embds\": false,\n",
       "  \"transformers_version\": \"4.23.1\",\n",
       "  \"vocab_size\": 32000\n",
       "}"
      ]
     },
     "execution_count": 117,
     "metadata": {},
     "output_type": "execute_result"
    }
   ],
   "source": [
    "my_config"
   ]
  },
  {
   "cell_type": "code",
   "execution_count": 126,
   "metadata": {},
   "outputs": [
    {
     "data": {
      "text/plain": [
       "_IncompatibleKeys(missing_keys=['classifier.weight', 'classifier.bias'], unexpected_keys=[])"
      ]
     },
     "execution_count": 126,
     "metadata": {},
     "output_type": "execute_result"
    }
   ],
   "source": [
    "num_labels = 3\n",
    "my_config = DistilBertConfig(activation=\"relu\", attention_dropout=0.4, vocab_size=32000, n_layers=6, num_labels=num_labels)\n",
    "model = AutoModelForSequenceClassification.from_config(my_config)\n",
    "model_dict = model.state_dict()\n",
    "pretrained_dict = torch.load(\"/home/seungjoonpark/DistilKoBERT/models/distilkoroberta.pt\")\n",
    "del pretrained_dict[next(reversed(pretrained_dict))]\n",
    "del pretrained_dict[next(reversed(pretrained_dict))]\n",
    "pretrained_dict = {k: v for k, v in pretrained_dict.items() if k in model_dict}\n",
    "model_dict.update(pretrained_dict) \n",
    "model.load_state_dict(pretrained_dict, strict=False)"
   ]
  },
  {
   "cell_type": "code",
   "execution_count": 127,
   "metadata": {},
   "outputs": [],
   "source": [
    "def compute_metrics(eval_pred):\n",
    "    predictions, labels = eval_pred\n",
    "    predictions = np.argmax(predictions, axis=1)\n",
    "    return metric.compute(predictions=predictions, references=labels)"
   ]
  },
  {
   "cell_type": "code",
   "execution_count": 128,
   "metadata": {},
   "outputs": [],
   "source": [
    "batch_size=256"
   ]
  },
  {
   "cell_type": "code",
   "execution_count": 133,
   "metadata": {},
   "outputs": [
    {
     "name": "stderr",
     "output_type": "stream",
     "text": [
      "PyTorch: setting up devices\n",
      "The default value for the training argument `--report_to` will change in v5 (from all installed integrations to none). In v5, you will need to use `--report_to all` to get the same behavior as now. You should start updating your code and make this info disappear :-).\n"
     ]
    }
   ],
   "source": [
    "metric_name = \"accuracy\"\n",
    "\n",
    "args = TrainingArguments(\n",
    "    \"test-nli\",\n",
    "    evaluation_strategy=\"epoch\",\n",
    "    save_strategy=\"epoch\",\n",
    "    learning_rate=2e-5,\n",
    "    per_device_train_batch_size=batch_size,\n",
    "    per_device_eval_batch_size=batch_size,\n",
    "    num_train_epochs=5,\n",
    "    weight_decay=0.01,\n",
    "    load_best_model_at_end=True,\n",
    "    metric_for_best_model=metric_name,\n",
    ")"
   ]
  },
  {
   "cell_type": "code",
   "execution_count": 134,
   "metadata": {},
   "outputs": [],
   "source": [
    "trainer = Trainer(\n",
    "    model,\n",
    "    args,\n",
    "    train_dataset=encoded_datasets[\"train\"],\n",
    "    eval_dataset=encoded_datasets[\"validation\"],\n",
    "    tokenizer=tokenizer,\n",
    "    compute_metrics=compute_metrics,\n",
    ")"
   ]
  },
  {
   "cell_type": "code",
   "execution_count": 135,
   "metadata": {},
   "outputs": [
    {
     "name": "stderr",
     "output_type": "stream",
     "text": [
      "The following columns in the training set don't have a corresponding argument in `DistilBertForSequenceClassification.forward` and have been ignored: source, hypothesis, premise, guid. If source, hypothesis, premise, guid are not expected by `DistilBertForSequenceClassification.forward`,  you can safely ignore this message.\n",
      "/home/seungjoonpark/miniconda3/envs/nlp_project/lib/python3.8/site-packages/transformers/optimization.py:306: FutureWarning: This implementation of AdamW is deprecated and will be removed in a future version. Use the PyTorch implementation torch.optim.AdamW instead, or set `no_deprecation_warning=True` to disable this warning\n",
      "  warnings.warn(\n",
      "***** Running training *****\n",
      "  Num examples = 24998\n",
      "  Num Epochs = 5\n",
      "  Instantaneous batch size per device = 256\n",
      "  Total train batch size (w. parallel, distributed & accumulation) = 256\n",
      "  Gradient Accumulation steps = 1\n",
      "  Total optimization steps = 490\n"
     ]
    },
    {
     "data": {
      "text/html": [
       "\n",
       "    <div>\n",
       "      \n",
       "      <progress value='490' max='490' style='width:300px; height:20px; vertical-align: middle;'></progress>\n",
       "      [490/490 04:47, Epoch 5/5]\n",
       "    </div>\n",
       "    <table border=\"1\" class=\"dataframe\">\n",
       "  <thead>\n",
       " <tr style=\"text-align: left;\">\n",
       "      <th>Epoch</th>\n",
       "      <th>Training Loss</th>\n",
       "      <th>Validation Loss</th>\n",
       "      <th>Accuracy</th>\n",
       "    </tr>\n",
       "  </thead>\n",
       "  <tbody>\n",
       "    <tr>\n",
       "      <td>1</td>\n",
       "      <td>No log</td>\n",
       "      <td>1.097590</td>\n",
       "      <td>0.380333</td>\n",
       "    </tr>\n",
       "    <tr>\n",
       "      <td>2</td>\n",
       "      <td>No log</td>\n",
       "      <td>1.113917</td>\n",
       "      <td>0.390667</td>\n",
       "    </tr>\n",
       "    <tr>\n",
       "      <td>3</td>\n",
       "      <td>No log</td>\n",
       "      <td>1.146158</td>\n",
       "      <td>0.391000</td>\n",
       "    </tr>\n",
       "    <tr>\n",
       "      <td>4</td>\n",
       "      <td>No log</td>\n",
       "      <td>1.126838</td>\n",
       "      <td>0.397333</td>\n",
       "    </tr>\n",
       "    <tr>\n",
       "      <td>5</td>\n",
       "      <td>No log</td>\n",
       "      <td>1.137593</td>\n",
       "      <td>0.393000</td>\n",
       "    </tr>\n",
       "  </tbody>\n",
       "</table><p>"
      ],
      "text/plain": [
       "<IPython.core.display.HTML object>"
      ]
     },
     "metadata": {},
     "output_type": "display_data"
    },
    {
     "name": "stderr",
     "output_type": "stream",
     "text": [
      "The following columns in the evaluation set don't have a corresponding argument in `DistilBertForSequenceClassification.forward` and have been ignored: source, hypothesis, premise, guid. If source, hypothesis, premise, guid are not expected by `DistilBertForSequenceClassification.forward`,  you can safely ignore this message.\n",
      "***** Running Evaluation *****\n",
      "  Num examples = 3000\n",
      "  Batch size = 256\n",
      "Saving model checkpoint to test-nli/checkpoint-98\n",
      "Configuration saved in test-nli/checkpoint-98/config.json\n",
      "Model weights saved in test-nli/checkpoint-98/pytorch_model.bin\n",
      "tokenizer config file saved in test-nli/checkpoint-98/tokenizer_config.json\n",
      "Special tokens file saved in test-nli/checkpoint-98/special_tokens_map.json\n",
      "The following columns in the evaluation set don't have a corresponding argument in `DistilBertForSequenceClassification.forward` and have been ignored: source, hypothesis, premise, guid. If source, hypothesis, premise, guid are not expected by `DistilBertForSequenceClassification.forward`,  you can safely ignore this message.\n",
      "***** Running Evaluation *****\n",
      "  Num examples = 3000\n",
      "  Batch size = 256\n",
      "Saving model checkpoint to test-nli/checkpoint-196\n",
      "Configuration saved in test-nli/checkpoint-196/config.json\n",
      "Model weights saved in test-nli/checkpoint-196/pytorch_model.bin\n",
      "tokenizer config file saved in test-nli/checkpoint-196/tokenizer_config.json\n",
      "Special tokens file saved in test-nli/checkpoint-196/special_tokens_map.json\n",
      "The following columns in the evaluation set don't have a corresponding argument in `DistilBertForSequenceClassification.forward` and have been ignored: source, hypothesis, premise, guid. If source, hypothesis, premise, guid are not expected by `DistilBertForSequenceClassification.forward`,  you can safely ignore this message.\n",
      "***** Running Evaluation *****\n",
      "  Num examples = 3000\n",
      "  Batch size = 256\n",
      "Saving model checkpoint to test-nli/checkpoint-294\n",
      "Configuration saved in test-nli/checkpoint-294/config.json\n",
      "Model weights saved in test-nli/checkpoint-294/pytorch_model.bin\n",
      "tokenizer config file saved in test-nli/checkpoint-294/tokenizer_config.json\n",
      "Special tokens file saved in test-nli/checkpoint-294/special_tokens_map.json\n",
      "The following columns in the evaluation set don't have a corresponding argument in `DistilBertForSequenceClassification.forward` and have been ignored: source, hypothesis, premise, guid. If source, hypothesis, premise, guid are not expected by `DistilBertForSequenceClassification.forward`,  you can safely ignore this message.\n",
      "***** Running Evaluation *****\n",
      "  Num examples = 3000\n",
      "  Batch size = 256\n",
      "Saving model checkpoint to test-nli/checkpoint-392\n",
      "Configuration saved in test-nli/checkpoint-392/config.json\n",
      "Model weights saved in test-nli/checkpoint-392/pytorch_model.bin\n",
      "tokenizer config file saved in test-nli/checkpoint-392/tokenizer_config.json\n",
      "Special tokens file saved in test-nli/checkpoint-392/special_tokens_map.json\n",
      "The following columns in the evaluation set don't have a corresponding argument in `DistilBertForSequenceClassification.forward` and have been ignored: source, hypothesis, premise, guid. If source, hypothesis, premise, guid are not expected by `DistilBertForSequenceClassification.forward`,  you can safely ignore this message.\n",
      "***** Running Evaluation *****\n",
      "  Num examples = 3000\n",
      "  Batch size = 256\n",
      "Saving model checkpoint to test-nli/checkpoint-490\n",
      "Configuration saved in test-nli/checkpoint-490/config.json\n",
      "Model weights saved in test-nli/checkpoint-490/pytorch_model.bin\n",
      "tokenizer config file saved in test-nli/checkpoint-490/tokenizer_config.json\n",
      "Special tokens file saved in test-nli/checkpoint-490/special_tokens_map.json\n",
      "\n",
      "\n",
      "Training completed. Do not forget to share your model on huggingface.co/models =)\n",
      "\n",
      "\n",
      "Loading best model from test-nli/checkpoint-392 (score: 0.3973333333333333).\n"
     ]
    },
    {
     "data": {
      "text/plain": [
       "TrainOutput(global_step=490, training_loss=0.9852519132653061, metrics={'train_runtime': 288.5789, 'train_samples_per_second': 433.122, 'train_steps_per_second': 1.698, 'total_flos': 2619227819706804.0, 'train_loss': 0.9852519132653061, 'epoch': 5.0})"
      ]
     },
     "execution_count": 135,
     "metadata": {},
     "output_type": "execute_result"
    }
   ],
   "source": [
    "trainer.train()"
   ]
  },
  {
   "cell_type": "code",
   "execution_count": 132,
   "metadata": {},
   "outputs": [
    {
     "name": "stderr",
     "output_type": "stream",
     "text": [
      "The following columns in the evaluation set don't have a corresponding argument in `DistilBertForSequenceClassification.forward` and have been ignored: source, hypothesis, premise, guid. If source, hypothesis, premise, guid are not expected by `DistilBertForSequenceClassification.forward`,  you can safely ignore this message.\n",
      "***** Running Evaluation *****\n",
      "  Num examples = 3000\n",
      "  Batch size = 256\n"
     ]
    },
    {
     "data": {
      "text/html": [
       "\n",
       "    <div>\n",
       "      \n",
       "      <progress value='12' max='12' style='width:300px; height:20px; vertical-align: middle;'></progress>\n",
       "      [12/12 00:02]\n",
       "    </div>\n",
       "    "
      ],
      "text/plain": [
       "<IPython.core.display.HTML object>"
      ]
     },
     "metadata": {},
     "output_type": "display_data"
    },
    {
     "data": {
      "text/plain": [
       "{'eval_loss': 1.1056615114212036,\n",
       " 'eval_accuracy': 0.37133333333333335,\n",
       " 'eval_runtime': 2.453,\n",
       " 'eval_samples_per_second': 1222.99,\n",
       " 'eval_steps_per_second': 4.892,\n",
       " 'epoch': 5.0}"
      ]
     },
     "execution_count": 132,
     "metadata": {},
     "output_type": "execute_result"
    }
   ],
   "source": [
    "trainer.evaluate()"
   ]
  },
  {
   "cell_type": "markdown",
   "metadata": {
    "id": "erF--_J-iQYa"
   },
   "source": [
    "## Installing Optuna for Hyperparameter Tuning"
   ]
  },
  {
   "cell_type": "markdown",
   "metadata": {
    "id": "fFqHvgR5iWZP"
   },
   "source": [
    "## Defining the Hyperparamater Space to be optimized over"
   ]
  },
  {
   "cell_type": "code",
   "execution_count": 137,
   "metadata": {
    "id": "pwerkX6TL-Z3"
   },
   "outputs": [],
   "source": [
    "def hp_space(trial):\n",
    "    return {\n",
    "      \"num_train_epochs\": trial.suggest_int(\"num_train_epochs\", 2, 10),\n",
    "      \"learning_rate\": trial.suggest_float(\"learning_rate\", 1e-5, 1e-3 ,log=True),\n",
    "      \"alpha\": trial.suggest_float(\"alpha\", 0, 1),\n",
    "      \"temperature\": trial.suggest_int(\"temperature\", 2, 30),\n",
    "      }"
   ]
  },
  {
   "cell_type": "markdown",
   "metadata": {
    "id": "a936pRODi43P"
   },
   "source": [
    "## Running the Hyperparameter Search"
   ]
  },
  {
   "cell_type": "code",
   "execution_count": 138,
   "metadata": {
    "colab": {
     "base_uri": "https://localhost:8080/",
     "height": 1000
    },
    "id": "JBi0KiDuMBXP",
    "outputId": "febe0f20-83c0-45da-9420-03101e1a8c58"
   },
   "outputs": [
    {
     "name": "stderr",
     "output_type": "stream",
     "text": [
      "You passed along `num_labels=6` with an incompatible id to label map: {'0': 'IT과학', '1': '경제', '2': '사회', '3': '생활문화', '4': '세계', '5': '스포츠', '6': '정치'}. The number of labels wil be overwritten to 7.\n",
      "Using cuda_amp half precision backend\n",
      "\u001b[32m[I 2022-10-27 23:39:03,618]\u001b[0m A new study created in memory with name: no-name-72755f35-ffe2-455f-abeb-7ef48083cfc8\u001b[0m\n",
      "Trial: {'num_train_epochs': 4, 'learning_rate': 0.0003356216196363318, 'alpha': 0.0038843531441111745, 'temperature': 28}\n",
      "The following columns in the training set don't have a corresponding argument in `DistilBertForSequenceClassification.forward` and have been ignored: title, date, token_type_ids, guid, url. If title, date, token_type_ids, guid, url are not expected by `DistilBertForSequenceClassification.forward`,  you can safely ignore this message.\n",
      "/home/seungjoonpark/miniconda3/envs/nlp_project/lib/python3.8/site-packages/transformers/optimization.py:306: FutureWarning: This implementation of AdamW is deprecated and will be removed in a future version. Use the PyTorch implementation torch.optim.AdamW instead, or set `no_deprecation_warning=True` to disable this warning\n",
      "  warnings.warn(\n",
      "***** Running training *****\n",
      "  Num examples = 45678\n",
      "  Num Epochs = 4\n",
      "  Instantaneous batch size per device = 128\n",
      "  Total train batch size (w. parallel, distributed & accumulation) = 128\n",
      "  Gradient Accumulation steps = 1\n",
      "  Total optimization steps = 1428\n"
     ]
    },
    {
     "data": {
      "text/html": [
       "\n",
       "    <div>\n",
       "      \n",
       "      <progress value='1428' max='1428' style='width:300px; height:20px; vertical-align: middle;'></progress>\n",
       "      [1428/1428 03:09, Epoch 4/4]\n",
       "    </div>\n",
       "    <table border=\"1\" class=\"dataframe\">\n",
       "  <thead>\n",
       " <tr style=\"text-align: left;\">\n",
       "      <th>Epoch</th>\n",
       "      <th>Training Loss</th>\n",
       "      <th>Validation Loss</th>\n",
       "      <th>Accuracy</th>\n",
       "    </tr>\n",
       "  </thead>\n",
       "  <tbody>\n",
       "    <tr>\n",
       "      <td>1</td>\n",
       "      <td>0.009900</td>\n",
       "      <td>0.007726</td>\n",
       "      <td>0.148018</td>\n",
       "    </tr>\n",
       "    <tr>\n",
       "      <td>2</td>\n",
       "      <td>0.007900</td>\n",
       "      <td>0.007775</td>\n",
       "      <td>0.148018</td>\n",
       "    </tr>\n",
       "    <tr>\n",
       "      <td>3</td>\n",
       "      <td>0.007800</td>\n",
       "      <td>0.007747</td>\n",
       "      <td>0.148018</td>\n",
       "    </tr>\n",
       "    <tr>\n",
       "      <td>4</td>\n",
       "      <td>0.007800</td>\n",
       "      <td>0.007662</td>\n",
       "      <td>0.148018</td>\n",
       "    </tr>\n",
       "  </tbody>\n",
       "</table><p>"
      ],
      "text/plain": [
       "<IPython.core.display.HTML object>"
      ]
     },
     "metadata": {},
     "output_type": "display_data"
    },
    {
     "name": "stderr",
     "output_type": "stream",
     "text": [
      "The following columns in the evaluation set don't have a corresponding argument in `DistilBertForSequenceClassification.forward` and have been ignored: title, date, token_type_ids, guid, url. If title, date, token_type_ids, guid, url are not expected by `DistilBertForSequenceClassification.forward`,  you can safely ignore this message.\n",
      "***** Running Evaluation *****\n",
      "  Num examples = 9107\n",
      "  Batch size = 128\n",
      "Saving model checkpoint to distilroberta-base-sst2-distilled/run-0/checkpoint-357\n",
      "Configuration saved in distilroberta-base-sst2-distilled/run-0/checkpoint-357/config.json\n",
      "Model weights saved in distilroberta-base-sst2-distilled/run-0/checkpoint-357/pytorch_model.bin\n",
      "tokenizer config file saved in distilroberta-base-sst2-distilled/run-0/checkpoint-357/tokenizer_config.json\n",
      "Special tokens file saved in distilroberta-base-sst2-distilled/run-0/checkpoint-357/special_tokens_map.json\n",
      "The following columns in the evaluation set don't have a corresponding argument in `DistilBertForSequenceClassification.forward` and have been ignored: title, date, token_type_ids, guid, url. If title, date, token_type_ids, guid, url are not expected by `DistilBertForSequenceClassification.forward`,  you can safely ignore this message.\n",
      "***** Running Evaluation *****\n",
      "  Num examples = 9107\n",
      "  Batch size = 128\n",
      "Saving model checkpoint to distilroberta-base-sst2-distilled/run-0/checkpoint-714\n",
      "Configuration saved in distilroberta-base-sst2-distilled/run-0/checkpoint-714/config.json\n",
      "Model weights saved in distilroberta-base-sst2-distilled/run-0/checkpoint-714/pytorch_model.bin\n",
      "tokenizer config file saved in distilroberta-base-sst2-distilled/run-0/checkpoint-714/tokenizer_config.json\n",
      "Special tokens file saved in distilroberta-base-sst2-distilled/run-0/checkpoint-714/special_tokens_map.json\n",
      "The following columns in the evaluation set don't have a corresponding argument in `DistilBertForSequenceClassification.forward` and have been ignored: title, date, token_type_ids, guid, url. If title, date, token_type_ids, guid, url are not expected by `DistilBertForSequenceClassification.forward`,  you can safely ignore this message.\n",
      "***** Running Evaluation *****\n",
      "  Num examples = 9107\n",
      "  Batch size = 128\n",
      "Saving model checkpoint to distilroberta-base-sst2-distilled/run-0/checkpoint-1071\n",
      "Configuration saved in distilroberta-base-sst2-distilled/run-0/checkpoint-1071/config.json\n",
      "Model weights saved in distilroberta-base-sst2-distilled/run-0/checkpoint-1071/pytorch_model.bin\n",
      "tokenizer config file saved in distilroberta-base-sst2-distilled/run-0/checkpoint-1071/tokenizer_config.json\n",
      "Special tokens file saved in distilroberta-base-sst2-distilled/run-0/checkpoint-1071/special_tokens_map.json\n",
      "Deleting older checkpoint [distilroberta-base-sst2-distilled/run-0/checkpoint-714] due to args.save_total_limit\n",
      "The following columns in the evaluation set don't have a corresponding argument in `DistilBertForSequenceClassification.forward` and have been ignored: title, date, token_type_ids, guid, url. If title, date, token_type_ids, guid, url are not expected by `DistilBertForSequenceClassification.forward`,  you can safely ignore this message.\n",
      "***** Running Evaluation *****\n",
      "  Num examples = 9107\n",
      "  Batch size = 128\n",
      "Saving model checkpoint to distilroberta-base-sst2-distilled/run-0/checkpoint-1428\n",
      "Configuration saved in distilroberta-base-sst2-distilled/run-0/checkpoint-1428/config.json\n",
      "Model weights saved in distilroberta-base-sst2-distilled/run-0/checkpoint-1428/pytorch_model.bin\n",
      "tokenizer config file saved in distilroberta-base-sst2-distilled/run-0/checkpoint-1428/tokenizer_config.json\n",
      "Special tokens file saved in distilroberta-base-sst2-distilled/run-0/checkpoint-1428/special_tokens_map.json\n",
      "Deleting older checkpoint [distilroberta-base-sst2-distilled/run-0/checkpoint-1071] due to args.save_total_limit\n",
      "\n",
      "\n",
      "Training completed. Do not forget to share your model on huggingface.co/models =)\n",
      "\n",
      "\n",
      "Loading best model from distilroberta-base-sst2-distilled/run-0/checkpoint-357 (score: 0.14801800812561766).\n",
      "\u001b[32m[I 2022-10-27 23:42:15,108]\u001b[0m Trial 0 finished with value: 0.14801800812561766 and parameters: {'num_train_epochs': 4, 'learning_rate': 0.0003356216196363318, 'alpha': 0.0038843531441111745, 'temperature': 28}. Best is trial 0 with value: 0.14801800812561766.\u001b[0m\n",
      "Trial: {'num_train_epochs': 10, 'learning_rate': 4.354784416636035e-05, 'alpha': 0.22918617625637505, 'temperature': 9}\n",
      "The following columns in the training set don't have a corresponding argument in `DistilBertForSequenceClassification.forward` and have been ignored: title, date, token_type_ids, guid, url. If title, date, token_type_ids, guid, url are not expected by `DistilBertForSequenceClassification.forward`,  you can safely ignore this message.\n",
      "/home/seungjoonpark/miniconda3/envs/nlp_project/lib/python3.8/site-packages/transformers/optimization.py:306: FutureWarning: This implementation of AdamW is deprecated and will be removed in a future version. Use the PyTorch implementation torch.optim.AdamW instead, or set `no_deprecation_warning=True` to disable this warning\n",
      "  warnings.warn(\n",
      "***** Running training *****\n",
      "  Num examples = 45678\n",
      "  Num Epochs = 10\n",
      "  Instantaneous batch size per device = 128\n",
      "  Total train batch size (w. parallel, distributed & accumulation) = 128\n",
      "  Gradient Accumulation steps = 1\n",
      "  Total optimization steps = 3570\n"
     ]
    },
    {
     "data": {
      "text/html": [
       "\n",
       "    <div>\n",
       "      \n",
       "      <progress value='3570' max='3570' style='width:300px; height:20px; vertical-align: middle;'></progress>\n",
       "      [3570/3570 08:01, Epoch 10/10]\n",
       "    </div>\n",
       "    <table border=\"1\" class=\"dataframe\">\n",
       "  <thead>\n",
       " <tr style=\"text-align: left;\">\n",
       "      <th>Epoch</th>\n",
       "      <th>Training Loss</th>\n",
       "      <th>Validation Loss</th>\n",
       "      <th>Accuracy</th>\n",
       "    </tr>\n",
       "  </thead>\n",
       "  <tbody>\n",
       "    <tr>\n",
       "      <td>1</td>\n",
       "      <td>0.387900</td>\n",
       "      <td>0.372254</td>\n",
       "      <td>0.706929</td>\n",
       "    </tr>\n",
       "    <tr>\n",
       "      <td>2</td>\n",
       "      <td>0.342700</td>\n",
       "      <td>0.365087</td>\n",
       "      <td>0.717580</td>\n",
       "    </tr>\n",
       "    <tr>\n",
       "      <td>3</td>\n",
       "      <td>0.333000</td>\n",
       "      <td>0.354984</td>\n",
       "      <td>0.779620</td>\n",
       "    </tr>\n",
       "    <tr>\n",
       "      <td>4</td>\n",
       "      <td>0.327200</td>\n",
       "      <td>0.358589</td>\n",
       "      <td>0.764577</td>\n",
       "    </tr>\n",
       "    <tr>\n",
       "      <td>5</td>\n",
       "      <td>0.323200</td>\n",
       "      <td>0.364620</td>\n",
       "      <td>0.752718</td>\n",
       "    </tr>\n",
       "    <tr>\n",
       "      <td>6</td>\n",
       "      <td>0.320600</td>\n",
       "      <td>0.358994</td>\n",
       "      <td>0.775338</td>\n",
       "    </tr>\n",
       "    <tr>\n",
       "      <td>7</td>\n",
       "      <td>0.318300</td>\n",
       "      <td>0.357679</td>\n",
       "      <td>0.784122</td>\n",
       "    </tr>\n",
       "    <tr>\n",
       "      <td>8</td>\n",
       "      <td>0.316800</td>\n",
       "      <td>0.363774</td>\n",
       "      <td>0.765565</td>\n",
       "    </tr>\n",
       "    <tr>\n",
       "      <td>9</td>\n",
       "      <td>0.315700</td>\n",
       "      <td>0.362860</td>\n",
       "      <td>0.767541</td>\n",
       "    </tr>\n",
       "    <tr>\n",
       "      <td>10</td>\n",
       "      <td>0.314700</td>\n",
       "      <td>0.361569</td>\n",
       "      <td>0.772812</td>\n",
       "    </tr>\n",
       "  </tbody>\n",
       "</table><p>"
      ],
      "text/plain": [
       "<IPython.core.display.HTML object>"
      ]
     },
     "metadata": {},
     "output_type": "display_data"
    },
    {
     "name": "stderr",
     "output_type": "stream",
     "text": [
      "The following columns in the evaluation set don't have a corresponding argument in `DistilBertForSequenceClassification.forward` and have been ignored: title, date, token_type_ids, guid, url. If title, date, token_type_ids, guid, url are not expected by `DistilBertForSequenceClassification.forward`,  you can safely ignore this message.\n",
      "***** Running Evaluation *****\n",
      "  Num examples = 9107\n",
      "  Batch size = 128\n",
      "Saving model checkpoint to distilroberta-base-sst2-distilled/run-1/checkpoint-357\n",
      "Configuration saved in distilroberta-base-sst2-distilled/run-1/checkpoint-357/config.json\n",
      "Model weights saved in distilroberta-base-sst2-distilled/run-1/checkpoint-357/pytorch_model.bin\n",
      "tokenizer config file saved in distilroberta-base-sst2-distilled/run-1/checkpoint-357/tokenizer_config.json\n",
      "Special tokens file saved in distilroberta-base-sst2-distilled/run-1/checkpoint-357/special_tokens_map.json\n",
      "The following columns in the evaluation set don't have a corresponding argument in `DistilBertForSequenceClassification.forward` and have been ignored: title, date, token_type_ids, guid, url. If title, date, token_type_ids, guid, url are not expected by `DistilBertForSequenceClassification.forward`,  you can safely ignore this message.\n",
      "***** Running Evaluation *****\n",
      "  Num examples = 9107\n",
      "  Batch size = 128\n",
      "Saving model checkpoint to distilroberta-base-sst2-distilled/run-1/checkpoint-714\n",
      "Configuration saved in distilroberta-base-sst2-distilled/run-1/checkpoint-714/config.json\n",
      "Model weights saved in distilroberta-base-sst2-distilled/run-1/checkpoint-714/pytorch_model.bin\n",
      "tokenizer config file saved in distilroberta-base-sst2-distilled/run-1/checkpoint-714/tokenizer_config.json\n",
      "Special tokens file saved in distilroberta-base-sst2-distilled/run-1/checkpoint-714/special_tokens_map.json\n",
      "The following columns in the evaluation set don't have a corresponding argument in `DistilBertForSequenceClassification.forward` and have been ignored: title, date, token_type_ids, guid, url. If title, date, token_type_ids, guid, url are not expected by `DistilBertForSequenceClassification.forward`,  you can safely ignore this message.\n",
      "***** Running Evaluation *****\n",
      "  Num examples = 9107\n",
      "  Batch size = 128\n",
      "Saving model checkpoint to distilroberta-base-sst2-distilled/run-1/checkpoint-1071\n",
      "Configuration saved in distilroberta-base-sst2-distilled/run-1/checkpoint-1071/config.json\n",
      "Model weights saved in distilroberta-base-sst2-distilled/run-1/checkpoint-1071/pytorch_model.bin\n",
      "tokenizer config file saved in distilroberta-base-sst2-distilled/run-1/checkpoint-1071/tokenizer_config.json\n",
      "Special tokens file saved in distilroberta-base-sst2-distilled/run-1/checkpoint-1071/special_tokens_map.json\n",
      "Deleting older checkpoint [distilroberta-base-sst2-distilled/run-1/checkpoint-357] due to args.save_total_limit\n",
      "The following columns in the evaluation set don't have a corresponding argument in `DistilBertForSequenceClassification.forward` and have been ignored: title, date, token_type_ids, guid, url. If title, date, token_type_ids, guid, url are not expected by `DistilBertForSequenceClassification.forward`,  you can safely ignore this message.\n",
      "***** Running Evaluation *****\n",
      "  Num examples = 9107\n",
      "  Batch size = 128\n",
      "Saving model checkpoint to distilroberta-base-sst2-distilled/run-1/checkpoint-1428\n",
      "Configuration saved in distilroberta-base-sst2-distilled/run-1/checkpoint-1428/config.json\n",
      "Model weights saved in distilroberta-base-sst2-distilled/run-1/checkpoint-1428/pytorch_model.bin\n",
      "tokenizer config file saved in distilroberta-base-sst2-distilled/run-1/checkpoint-1428/tokenizer_config.json\n",
      "Special tokens file saved in distilroberta-base-sst2-distilled/run-1/checkpoint-1428/special_tokens_map.json\n",
      "Deleting older checkpoint [distilroberta-base-sst2-distilled/run-1/checkpoint-714] due to args.save_total_limit\n",
      "The following columns in the evaluation set don't have a corresponding argument in `DistilBertForSequenceClassification.forward` and have been ignored: title, date, token_type_ids, guid, url. If title, date, token_type_ids, guid, url are not expected by `DistilBertForSequenceClassification.forward`,  you can safely ignore this message.\n",
      "***** Running Evaluation *****\n",
      "  Num examples = 9107\n",
      "  Batch size = 128\n",
      "Saving model checkpoint to distilroberta-base-sst2-distilled/run-1/checkpoint-1785\n",
      "Configuration saved in distilroberta-base-sst2-distilled/run-1/checkpoint-1785/config.json\n",
      "Model weights saved in distilroberta-base-sst2-distilled/run-1/checkpoint-1785/pytorch_model.bin\n",
      "tokenizer config file saved in distilroberta-base-sst2-distilled/run-1/checkpoint-1785/tokenizer_config.json\n",
      "Special tokens file saved in distilroberta-base-sst2-distilled/run-1/checkpoint-1785/special_tokens_map.json\n",
      "Deleting older checkpoint [distilroberta-base-sst2-distilled/run-1/checkpoint-1428] due to args.save_total_limit\n",
      "The following columns in the evaluation set don't have a corresponding argument in `DistilBertForSequenceClassification.forward` and have been ignored: title, date, token_type_ids, guid, url. If title, date, token_type_ids, guid, url are not expected by `DistilBertForSequenceClassification.forward`,  you can safely ignore this message.\n",
      "***** Running Evaluation *****\n",
      "  Num examples = 9107\n",
      "  Batch size = 128\n",
      "Saving model checkpoint to distilroberta-base-sst2-distilled/run-1/checkpoint-2142\n",
      "Configuration saved in distilroberta-base-sst2-distilled/run-1/checkpoint-2142/config.json\n",
      "Model weights saved in distilroberta-base-sst2-distilled/run-1/checkpoint-2142/pytorch_model.bin\n",
      "tokenizer config file saved in distilroberta-base-sst2-distilled/run-1/checkpoint-2142/tokenizer_config.json\n",
      "Special tokens file saved in distilroberta-base-sst2-distilled/run-1/checkpoint-2142/special_tokens_map.json\n",
      "Deleting older checkpoint [distilroberta-base-sst2-distilled/run-1/checkpoint-1785] due to args.save_total_limit\n",
      "The following columns in the evaluation set don't have a corresponding argument in `DistilBertForSequenceClassification.forward` and have been ignored: title, date, token_type_ids, guid, url. If title, date, token_type_ids, guid, url are not expected by `DistilBertForSequenceClassification.forward`,  you can safely ignore this message.\n",
      "***** Running Evaluation *****\n",
      "  Num examples = 9107\n",
      "  Batch size = 128\n",
      "Saving model checkpoint to distilroberta-base-sst2-distilled/run-1/checkpoint-2499\n",
      "Configuration saved in distilroberta-base-sst2-distilled/run-1/checkpoint-2499/config.json\n",
      "Model weights saved in distilroberta-base-sst2-distilled/run-1/checkpoint-2499/pytorch_model.bin\n",
      "tokenizer config file saved in distilroberta-base-sst2-distilled/run-1/checkpoint-2499/tokenizer_config.json\n",
      "Special tokens file saved in distilroberta-base-sst2-distilled/run-1/checkpoint-2499/special_tokens_map.json\n",
      "Deleting older checkpoint [distilroberta-base-sst2-distilled/run-1/checkpoint-1071] due to args.save_total_limit\n",
      "The following columns in the evaluation set don't have a corresponding argument in `DistilBertForSequenceClassification.forward` and have been ignored: title, date, token_type_ids, guid, url. If title, date, token_type_ids, guid, url are not expected by `DistilBertForSequenceClassification.forward`,  you can safely ignore this message.\n",
      "***** Running Evaluation *****\n",
      "  Num examples = 9107\n",
      "  Batch size = 128\n",
      "Saving model checkpoint to distilroberta-base-sst2-distilled/run-1/checkpoint-2856\n",
      "Configuration saved in distilroberta-base-sst2-distilled/run-1/checkpoint-2856/config.json\n",
      "Model weights saved in distilroberta-base-sst2-distilled/run-1/checkpoint-2856/pytorch_model.bin\n",
      "tokenizer config file saved in distilroberta-base-sst2-distilled/run-1/checkpoint-2856/tokenizer_config.json\n",
      "Special tokens file saved in distilroberta-base-sst2-distilled/run-1/checkpoint-2856/special_tokens_map.json\n",
      "Deleting older checkpoint [distilroberta-base-sst2-distilled/run-1/checkpoint-2142] due to args.save_total_limit\n",
      "The following columns in the evaluation set don't have a corresponding argument in `DistilBertForSequenceClassification.forward` and have been ignored: title, date, token_type_ids, guid, url. If title, date, token_type_ids, guid, url are not expected by `DistilBertForSequenceClassification.forward`,  you can safely ignore this message.\n"
     ]
    },
    {
     "name": "stderr",
     "output_type": "stream",
     "text": [
      "***** Running Evaluation *****\n",
      "  Num examples = 9107\n",
      "  Batch size = 128\n",
      "Saving model checkpoint to distilroberta-base-sst2-distilled/run-1/checkpoint-3213\n",
      "Configuration saved in distilroberta-base-sst2-distilled/run-1/checkpoint-3213/config.json\n",
      "Model weights saved in distilroberta-base-sst2-distilled/run-1/checkpoint-3213/pytorch_model.bin\n",
      "tokenizer config file saved in distilroberta-base-sst2-distilled/run-1/checkpoint-3213/tokenizer_config.json\n",
      "Special tokens file saved in distilroberta-base-sst2-distilled/run-1/checkpoint-3213/special_tokens_map.json\n",
      "Deleting older checkpoint [distilroberta-base-sst2-distilled/run-1/checkpoint-2856] due to args.save_total_limit\n",
      "The following columns in the evaluation set don't have a corresponding argument in `DistilBertForSequenceClassification.forward` and have been ignored: title, date, token_type_ids, guid, url. If title, date, token_type_ids, guid, url are not expected by `DistilBertForSequenceClassification.forward`,  you can safely ignore this message.\n",
      "***** Running Evaluation *****\n",
      "  Num examples = 9107\n",
      "  Batch size = 128\n",
      "Saving model checkpoint to distilroberta-base-sst2-distilled/run-1/checkpoint-3570\n",
      "Configuration saved in distilroberta-base-sst2-distilled/run-1/checkpoint-3570/config.json\n",
      "Model weights saved in distilroberta-base-sst2-distilled/run-1/checkpoint-3570/pytorch_model.bin\n",
      "tokenizer config file saved in distilroberta-base-sst2-distilled/run-1/checkpoint-3570/tokenizer_config.json\n",
      "Special tokens file saved in distilroberta-base-sst2-distilled/run-1/checkpoint-3570/special_tokens_map.json\n",
      "Deleting older checkpoint [distilroberta-base-sst2-distilled/run-1/checkpoint-3213] due to args.save_total_limit\n",
      "\n",
      "\n",
      "Training completed. Do not forget to share your model on huggingface.co/models =)\n",
      "\n",
      "\n",
      "Loading best model from distilroberta-base-sst2-distilled/run-1/checkpoint-2499 (score: 0.7841221038761392).\n",
      "\u001b[32m[I 2022-10-27 23:50:18,572]\u001b[0m Trial 1 finished with value: 0.7728121225430987 and parameters: {'num_train_epochs': 10, 'learning_rate': 4.354784416636035e-05, 'alpha': 0.22918617625637505, 'temperature': 9}. Best is trial 1 with value: 0.7728121225430987.\u001b[0m\n"
     ]
    },
    {
     "name": "stdout",
     "output_type": "stream",
     "text": [
      "BestRun(run_id='1', objective=0.7728121225430987, hyperparameters={'num_train_epochs': 10, 'learning_rate': 4.354784416636035e-05, 'alpha': 0.22918617625637505, 'temperature': 9})\n"
     ]
    }
   ],
   "source": [
    "my_config = DistilBertConfig(activation=\"relu\", attention_dropout=0.4, vocab_size=32000, n_layers=6, num_labels=6,\n",
    "                            label2id=label2id, id2label=id2label)\n",
    "\n",
    "\n",
    "def student_init():\n",
    "    return AutoModelForSequenceClassification.from_config(\n",
    "    my_config)\n",
    "\n",
    "trainer = DistillationTrainer(\n",
    "    model_init=student_init,\n",
    "    args=training_args,\n",
    "    teacher_model=teacher_model,\n",
    "    train_dataset=sst2_enc[\"train\"],\n",
    "    eval_dataset=sst2_enc[\"validation\"],\n",
    "    data_collator=data_collator,\n",
    "    tokenizer=tokenizer,\n",
    "    compute_metrics=compute_metrics,\n",
    ")\n",
    "best_run = trainer.hyperparameter_search(\n",
    "    n_trials=2,\n",
    "    direction=\"maximize\",\n",
    "    hp_space=hp_space\n",
    ")\n",
    "\n",
    "print(best_run)"
   ]
  },
  {
   "cell_type": "markdown",
   "metadata": {
    "id": "l8X7E7FpjFg-"
   },
   "source": [
    "## Updating the training arguments"
   ]
  },
  {
   "cell_type": "code",
   "execution_count": 139,
   "metadata": {
    "id": "UqW7rvoNMil5"
   },
   "outputs": [],
   "source": [
    "# overwriting the previous hyperparameters\n",
    "for k,v in best_run.hyperparameters.items():\n",
    "    setattr(training_args, k, v)\n",
    "\n",
    "# new repository\n",
    "best_model_ckpt = \"distilroberta-best\"\n",
    "training_args.output_dir = best_model_ckpt"
   ]
  },
  {
   "cell_type": "markdown",
   "metadata": {
    "id": "qNhUWuyOjTYu"
   },
   "source": [
    "## Final Training"
   ]
  },
  {
   "cell_type": "code",
   "execution_count": 140,
   "metadata": {
    "colab": {
     "base_uri": "https://localhost:8080/",
     "height": 1000
    },
    "id": "v1VJCtxtMjnJ",
    "outputId": "0f2c24eb-6388-4595-a4fd-cd43c7f2bc2a"
   },
   "outputs": [
    {
     "name": "stderr",
     "output_type": "stream",
     "text": [
      "Using cuda_amp half precision backend\n",
      "The following columns in the training set don't have a corresponding argument in `DistilBertForSequenceClassification.forward` and have been ignored: title, date, token_type_ids, guid, url. If title, date, token_type_ids, guid, url are not expected by `DistilBertForSequenceClassification.forward`,  you can safely ignore this message.\n",
      "/home/seungjoonpark/miniconda3/envs/nlp_project/lib/python3.8/site-packages/transformers/optimization.py:306: FutureWarning: This implementation of AdamW is deprecated and will be removed in a future version. Use the PyTorch implementation torch.optim.AdamW instead, or set `no_deprecation_warning=True` to disable this warning\n",
      "  warnings.warn(\n",
      "***** Running training *****\n",
      "  Num examples = 45678\n",
      "  Num Epochs = 10\n",
      "  Instantaneous batch size per device = 128\n",
      "  Total train batch size (w. parallel, distributed & accumulation) = 128\n",
      "  Gradient Accumulation steps = 1\n",
      "  Total optimization steps = 3570\n"
     ]
    },
    {
     "data": {
      "text/html": [
       "\n",
       "    <div>\n",
       "      \n",
       "      <progress value='3570' max='3570' style='width:300px; height:20px; vertical-align: middle;'></progress>\n",
       "      [3570/3570 08:02, Epoch 10/10]\n",
       "    </div>\n",
       "    <table border=\"1\" class=\"dataframe\">\n",
       "  <thead>\n",
       " <tr style=\"text-align: left;\">\n",
       "      <th>Epoch</th>\n",
       "      <th>Training Loss</th>\n",
       "      <th>Validation Loss</th>\n",
       "      <th>Accuracy</th>\n",
       "    </tr>\n",
       "  </thead>\n",
       "  <tbody>\n",
       "    <tr>\n",
       "      <td>1</td>\n",
       "      <td>0.330300</td>\n",
       "      <td>0.359125</td>\n",
       "      <td>0.763918</td>\n",
       "    </tr>\n",
       "    <tr>\n",
       "      <td>2</td>\n",
       "      <td>0.323800</td>\n",
       "      <td>0.362589</td>\n",
       "      <td>0.753596</td>\n",
       "    </tr>\n",
       "    <tr>\n",
       "      <td>3</td>\n",
       "      <td>0.323600</td>\n",
       "      <td>0.361970</td>\n",
       "      <td>0.765345</td>\n",
       "    </tr>\n",
       "    <tr>\n",
       "      <td>4</td>\n",
       "      <td>0.320200</td>\n",
       "      <td>0.366088</td>\n",
       "      <td>0.753926</td>\n",
       "    </tr>\n",
       "    <tr>\n",
       "      <td>5</td>\n",
       "      <td>0.318100</td>\n",
       "      <td>0.361465</td>\n",
       "      <td>0.772263</td>\n",
       "    </tr>\n",
       "    <tr>\n",
       "      <td>6</td>\n",
       "      <td>0.316400</td>\n",
       "      <td>0.365798</td>\n",
       "      <td>0.762271</td>\n",
       "    </tr>\n",
       "    <tr>\n",
       "      <td>7</td>\n",
       "      <td>0.315000</td>\n",
       "      <td>0.367955</td>\n",
       "      <td>0.753267</td>\n",
       "    </tr>\n",
       "    <tr>\n",
       "      <td>8</td>\n",
       "      <td>0.314100</td>\n",
       "      <td>0.363063</td>\n",
       "      <td>0.773032</td>\n",
       "    </tr>\n",
       "    <tr>\n",
       "      <td>9</td>\n",
       "      <td>0.313200</td>\n",
       "      <td>0.364926</td>\n",
       "      <td>0.767761</td>\n",
       "    </tr>\n",
       "    <tr>\n",
       "      <td>10</td>\n",
       "      <td>0.312800</td>\n",
       "      <td>0.364964</td>\n",
       "      <td>0.767212</td>\n",
       "    </tr>\n",
       "  </tbody>\n",
       "</table><p>"
      ],
      "text/plain": [
       "<IPython.core.display.HTML object>"
      ]
     },
     "metadata": {},
     "output_type": "display_data"
    },
    {
     "name": "stderr",
     "output_type": "stream",
     "text": [
      "The following columns in the evaluation set don't have a corresponding argument in `DistilBertForSequenceClassification.forward` and have been ignored: title, date, token_type_ids, guid, url. If title, date, token_type_ids, guid, url are not expected by `DistilBertForSequenceClassification.forward`,  you can safely ignore this message.\n",
      "***** Running Evaluation *****\n",
      "  Num examples = 9107\n",
      "  Batch size = 128\n",
      "Saving model checkpoint to distilroberta-best/checkpoint-357\n",
      "Configuration saved in distilroberta-best/checkpoint-357/config.json\n",
      "Model weights saved in distilroberta-best/checkpoint-357/pytorch_model.bin\n",
      "tokenizer config file saved in distilroberta-best/checkpoint-357/tokenizer_config.json\n",
      "Special tokens file saved in distilroberta-best/checkpoint-357/special_tokens_map.json\n",
      "The following columns in the evaluation set don't have a corresponding argument in `DistilBertForSequenceClassification.forward` and have been ignored: title, date, token_type_ids, guid, url. If title, date, token_type_ids, guid, url are not expected by `DistilBertForSequenceClassification.forward`,  you can safely ignore this message.\n",
      "***** Running Evaluation *****\n",
      "  Num examples = 9107\n",
      "  Batch size = 128\n",
      "Saving model checkpoint to distilroberta-best/checkpoint-714\n",
      "Configuration saved in distilroberta-best/checkpoint-714/config.json\n",
      "Model weights saved in distilroberta-best/checkpoint-714/pytorch_model.bin\n",
      "tokenizer config file saved in distilroberta-best/checkpoint-714/tokenizer_config.json\n",
      "Special tokens file saved in distilroberta-best/checkpoint-714/special_tokens_map.json\n",
      "The following columns in the evaluation set don't have a corresponding argument in `DistilBertForSequenceClassification.forward` and have been ignored: title, date, token_type_ids, guid, url. If title, date, token_type_ids, guid, url are not expected by `DistilBertForSequenceClassification.forward`,  you can safely ignore this message.\n",
      "***** Running Evaluation *****\n",
      "  Num examples = 9107\n",
      "  Batch size = 128\n",
      "Saving model checkpoint to distilroberta-best/checkpoint-1071\n",
      "Configuration saved in distilroberta-best/checkpoint-1071/config.json\n",
      "Model weights saved in distilroberta-best/checkpoint-1071/pytorch_model.bin\n",
      "tokenizer config file saved in distilroberta-best/checkpoint-1071/tokenizer_config.json\n",
      "Special tokens file saved in distilroberta-best/checkpoint-1071/special_tokens_map.json\n",
      "Deleting older checkpoint [distilroberta-best/checkpoint-357] due to args.save_total_limit\n",
      "The following columns in the evaluation set don't have a corresponding argument in `DistilBertForSequenceClassification.forward` and have been ignored: title, date, token_type_ids, guid, url. If title, date, token_type_ids, guid, url are not expected by `DistilBertForSequenceClassification.forward`,  you can safely ignore this message.\n",
      "***** Running Evaluation *****\n",
      "  Num examples = 9107\n",
      "  Batch size = 128\n",
      "Saving model checkpoint to distilroberta-best/checkpoint-1428\n",
      "Configuration saved in distilroberta-best/checkpoint-1428/config.json\n",
      "Model weights saved in distilroberta-best/checkpoint-1428/pytorch_model.bin\n",
      "tokenizer config file saved in distilroberta-best/checkpoint-1428/tokenizer_config.json\n",
      "Special tokens file saved in distilroberta-best/checkpoint-1428/special_tokens_map.json\n",
      "Deleting older checkpoint [distilroberta-best/checkpoint-714] due to args.save_total_limit\n",
      "The following columns in the evaluation set don't have a corresponding argument in `DistilBertForSequenceClassification.forward` and have been ignored: title, date, token_type_ids, guid, url. If title, date, token_type_ids, guid, url are not expected by `DistilBertForSequenceClassification.forward`,  you can safely ignore this message.\n",
      "***** Running Evaluation *****\n",
      "  Num examples = 9107\n",
      "  Batch size = 128\n",
      "Saving model checkpoint to distilroberta-best/checkpoint-1785\n",
      "Configuration saved in distilroberta-best/checkpoint-1785/config.json\n",
      "Model weights saved in distilroberta-best/checkpoint-1785/pytorch_model.bin\n",
      "tokenizer config file saved in distilroberta-best/checkpoint-1785/tokenizer_config.json\n",
      "Special tokens file saved in distilroberta-best/checkpoint-1785/special_tokens_map.json\n",
      "Deleting older checkpoint [distilroberta-best/checkpoint-1071] due to args.save_total_limit\n",
      "The following columns in the evaluation set don't have a corresponding argument in `DistilBertForSequenceClassification.forward` and have been ignored: title, date, token_type_ids, guid, url. If title, date, token_type_ids, guid, url are not expected by `DistilBertForSequenceClassification.forward`,  you can safely ignore this message.\n",
      "***** Running Evaluation *****\n",
      "  Num examples = 9107\n",
      "  Batch size = 128\n",
      "Saving model checkpoint to distilroberta-best/checkpoint-2142\n",
      "Configuration saved in distilroberta-best/checkpoint-2142/config.json\n",
      "Model weights saved in distilroberta-best/checkpoint-2142/pytorch_model.bin\n",
      "tokenizer config file saved in distilroberta-best/checkpoint-2142/tokenizer_config.json\n",
      "Special tokens file saved in distilroberta-best/checkpoint-2142/special_tokens_map.json\n",
      "Deleting older checkpoint [distilroberta-best/checkpoint-1428] due to args.save_total_limit\n",
      "The following columns in the evaluation set don't have a corresponding argument in `DistilBertForSequenceClassification.forward` and have been ignored: title, date, token_type_ids, guid, url. If title, date, token_type_ids, guid, url are not expected by `DistilBertForSequenceClassification.forward`,  you can safely ignore this message.\n",
      "***** Running Evaluation *****\n",
      "  Num examples = 9107\n",
      "  Batch size = 128\n",
      "Saving model checkpoint to distilroberta-best/checkpoint-2499\n",
      "Configuration saved in distilroberta-best/checkpoint-2499/config.json\n",
      "Model weights saved in distilroberta-best/checkpoint-2499/pytorch_model.bin\n",
      "tokenizer config file saved in distilroberta-best/checkpoint-2499/tokenizer_config.json\n",
      "Special tokens file saved in distilroberta-best/checkpoint-2499/special_tokens_map.json\n",
      "Deleting older checkpoint [distilroberta-best/checkpoint-2142] due to args.save_total_limit\n",
      "The following columns in the evaluation set don't have a corresponding argument in `DistilBertForSequenceClassification.forward` and have been ignored: title, date, token_type_ids, guid, url. If title, date, token_type_ids, guid, url are not expected by `DistilBertForSequenceClassification.forward`,  you can safely ignore this message.\n",
      "***** Running Evaluation *****\n",
      "  Num examples = 9107\n",
      "  Batch size = 128\n",
      "Saving model checkpoint to distilroberta-best/checkpoint-2856\n",
      "Configuration saved in distilroberta-best/checkpoint-2856/config.json\n",
      "Model weights saved in distilroberta-best/checkpoint-2856/pytorch_model.bin\n",
      "tokenizer config file saved in distilroberta-best/checkpoint-2856/tokenizer_config.json\n",
      "Special tokens file saved in distilroberta-best/checkpoint-2856/special_tokens_map.json\n",
      "Deleting older checkpoint [distilroberta-best/checkpoint-1785] due to args.save_total_limit\n",
      "The following columns in the evaluation set don't have a corresponding argument in `DistilBertForSequenceClassification.forward` and have been ignored: title, date, token_type_ids, guid, url. If title, date, token_type_ids, guid, url are not expected by `DistilBertForSequenceClassification.forward`,  you can safely ignore this message.\n",
      "***** Running Evaluation *****\n",
      "  Num examples = 9107\n",
      "  Batch size = 128\n",
      "Saving model checkpoint to distilroberta-best/checkpoint-3213\n",
      "Configuration saved in distilroberta-best/checkpoint-3213/config.json\n",
      "Model weights saved in distilroberta-best/checkpoint-3213/pytorch_model.bin\n",
      "tokenizer config file saved in distilroberta-best/checkpoint-3213/tokenizer_config.json\n",
      "Special tokens file saved in distilroberta-best/checkpoint-3213/special_tokens_map.json\n",
      "Deleting older checkpoint [distilroberta-best/checkpoint-2499] due to args.save_total_limit\n",
      "The following columns in the evaluation set don't have a corresponding argument in `DistilBertForSequenceClassification.forward` and have been ignored: title, date, token_type_ids, guid, url. If title, date, token_type_ids, guid, url are not expected by `DistilBertForSequenceClassification.forward`,  you can safely ignore this message.\n",
      "***** Running Evaluation *****\n",
      "  Num examples = 9107\n",
      "  Batch size = 128\n",
      "Saving model checkpoint to distilroberta-best/checkpoint-3570\n"
     ]
    },
    {
     "name": "stderr",
     "output_type": "stream",
     "text": [
      "Configuration saved in distilroberta-best/checkpoint-3570/config.json\n",
      "Model weights saved in distilroberta-best/checkpoint-3570/pytorch_model.bin\n",
      "tokenizer config file saved in distilroberta-best/checkpoint-3570/tokenizer_config.json\n",
      "Special tokens file saved in distilroberta-best/checkpoint-3570/special_tokens_map.json\n",
      "Deleting older checkpoint [distilroberta-best/checkpoint-3213] due to args.save_total_limit\n",
      "\n",
      "\n",
      "Training completed. Do not forget to share your model on huggingface.co/models =)\n",
      "\n",
      "\n",
      "Loading best model from distilroberta-best/checkpoint-2856 (score: 0.7730317338311189).\n"
     ]
    },
    {
     "data": {
      "text/plain": [
       "TrainOutput(global_step=3570, training_loss=0.3187510471717984, metrics={'train_runtime': 482.5227, 'train_samples_per_second': 946.65, 'train_steps_per_second': 7.399, 'total_flos': 2774037043248840.0, 'train_loss': 0.3187510471717984, 'epoch': 10.0})"
      ]
     },
     "execution_count": 140,
     "metadata": {},
     "output_type": "execute_result"
    }
   ],
   "source": [
    "# New Trainer with the updated parameters\n",
    "optimal_trainer = DistillationTrainer(\n",
    "    student_model,\n",
    "    training_args,\n",
    "    teacher_model=teacher_model,\n",
    "    train_dataset=sst2_enc[\"train\"],\n",
    "    eval_dataset=sst2_enc[\"validation\"],\n",
    "    data_collator=data_collator,\n",
    "    tokenizer=tokenizer,\n",
    "    compute_metrics=compute_metrics,\n",
    ")\n",
    "\n",
    "optimal_trainer.train()"
   ]
  },
  {
   "cell_type": "code",
   "execution_count": null,
   "metadata": {},
   "outputs": [],
   "source": []
  }
 ],
 "metadata": {
  "accelerator": "GPU",
  "colab": {
   "authorship_tag": "ABX9TyMDSPGmMhUYmks1I9B5d2fo",
   "include_colab_link": true,
   "provenance": []
  },
  "kernelspec": {
   "display_name": "Python 3 (ipykernel)",
   "language": "python",
   "name": "python3"
  },
  "language_info": {
   "codemirror_mode": {
    "name": "ipython",
    "version": 3
   },
   "file_extension": ".py",
   "mimetype": "text/x-python",
   "name": "python",
   "nbconvert_exporter": "python",
   "pygments_lexer": "ipython3",
   "version": "3.9.12"
  },
  "widgets": {
   "application/vnd.jupyter.widget-state+json": {
    "09db8fe0b55443fdab2ac54e84bb7ff5": {
     "model_module": "@jupyter-widgets/controls",
     "model_module_version": "1.5.0",
     "model_name": "FloatProgressModel",
     "state": {
      "_dom_classes": [],
      "_model_module": "@jupyter-widgets/controls",
      "_model_module_version": "1.5.0",
      "_model_name": "FloatProgressModel",
      "_view_count": null,
      "_view_module": "@jupyter-widgets/controls",
      "_view_module_version": "1.5.0",
      "_view_name": "ProgressView",
      "bar_style": "success",
      "description": "",
      "description_tooltip": null,
      "layout": "IPY_MODEL_861ab3f25cb4479f9ace3978dc315ecf",
      "max": 3,
      "min": 0,
      "orientation": "horizontal",
      "style": "IPY_MODEL_52eabebd19834610890b10347acaf05a",
      "value": 3
     }
    },
    "0a8902cb735d4f658fd387204149ace6": {
     "model_module": "@jupyter-widgets/base",
     "model_module_version": "1.2.0",
     "model_name": "LayoutModel",
     "state": {
      "_model_module": "@jupyter-widgets/base",
      "_model_module_version": "1.2.0",
      "_model_name": "LayoutModel",
      "_view_count": null,
      "_view_module": "@jupyter-widgets/base",
      "_view_module_version": "1.2.0",
      "_view_name": "LayoutView",
      "align_content": null,
      "align_items": null,
      "align_self": null,
      "border": null,
      "bottom": null,
      "display": null,
      "flex": null,
      "flex_flow": null,
      "grid_area": null,
      "grid_auto_columns": null,
      "grid_auto_flow": null,
      "grid_auto_rows": null,
      "grid_column": null,
      "grid_gap": null,
      "grid_row": null,
      "grid_template_areas": null,
      "grid_template_columns": null,
      "grid_template_rows": null,
      "height": null,
      "justify_content": null,
      "justify_items": null,
      "left": null,
      "margin": null,
      "max_height": null,
      "max_width": null,
      "min_height": null,
      "min_width": null,
      "object_fit": null,
      "object_position": null,
      "order": null,
      "overflow": null,
      "overflow_x": null,
      "overflow_y": null,
      "padding": null,
      "right": null,
      "top": null,
      "visibility": null,
      "width": "20px"
     }
    },
    "0faf64a0c2af4340ac3b0eed24732d5a": {
     "model_module": "@jupyter-widgets/controls",
     "model_module_version": "1.5.0",
     "model_name": "HTMLModel",
     "state": {
      "_dom_classes": [],
      "_model_module": "@jupyter-widgets/controls",
      "_model_module_version": "1.5.0",
      "_model_name": "HTMLModel",
      "_view_count": null,
      "_view_module": "@jupyter-widgets/controls",
      "_view_module_version": "1.5.0",
      "_view_name": "HTMLView",
      "description": "",
      "description_tooltip": null,
      "layout": "IPY_MODEL_b0614b4ade314c5c8073193bb1d3408f",
      "placeholder": "​",
      "style": "IPY_MODEL_38b21b8459234a42b8fb69752644d48a",
      "value": "100%"
     }
    },
    "135dbaaa41a946ca899dc8164bca3e44": {
     "model_module": "@jupyter-widgets/controls",
     "model_module_version": "1.5.0",
     "model_name": "HTMLModel",
     "state": {
      "_dom_classes": [],
      "_model_module": "@jupyter-widgets/controls",
      "_model_module_version": "1.5.0",
      "_model_name": "HTMLModel",
      "_view_count": null,
      "_view_module": "@jupyter-widgets/controls",
      "_view_module_version": "1.5.0",
      "_view_name": "HTMLView",
      "description": "",
      "description_tooltip": null,
      "layout": "IPY_MODEL_5ad3705618644447bfcfdb9b65271883",
      "placeholder": "​",
      "style": "IPY_MODEL_b71e32972c104b53a669ec7591e557ff",
      "value": "100%"
     }
    },
    "155517c19bc24d599b068af7e28ad8cf": {
     "model_module": "@jupyter-widgets/base",
     "model_module_version": "1.2.0",
     "model_name": "LayoutModel",
     "state": {
      "_model_module": "@jupyter-widgets/base",
      "_model_module_version": "1.2.0",
      "_model_name": "LayoutModel",
      "_view_count": null,
      "_view_module": "@jupyter-widgets/base",
      "_view_module_version": "1.2.0",
      "_view_name": "LayoutView",
      "align_content": null,
      "align_items": null,
      "align_self": null,
      "border": null,
      "bottom": null,
      "display": null,
      "flex": null,
      "flex_flow": null,
      "grid_area": null,
      "grid_auto_columns": null,
      "grid_auto_flow": null,
      "grid_auto_rows": null,
      "grid_column": null,
      "grid_gap": null,
      "grid_row": null,
      "grid_template_areas": null,
      "grid_template_columns": null,
      "grid_template_rows": null,
      "height": null,
      "justify_content": null,
      "justify_items": null,
      "left": null,
      "margin": null,
      "max_height": null,
      "max_width": null,
      "min_height": null,
      "min_width": null,
      "object_fit": null,
      "object_position": null,
      "order": null,
      "overflow": null,
      "overflow_x": null,
      "overflow_y": null,
      "padding": null,
      "right": null,
      "top": null,
      "visibility": null,
      "width": null
     }
    },
    "1e5da5a29aaa4700bcdbdfc768b33aaf": {
     "model_module": "@jupyter-widgets/controls",
     "model_module_version": "1.5.0",
     "model_name": "DescriptionStyleModel",
     "state": {
      "_model_module": "@jupyter-widgets/controls",
      "_model_module_version": "1.5.0",
      "_model_name": "DescriptionStyleModel",
      "_view_count": null,
      "_view_module": "@jupyter-widgets/base",
      "_view_module_version": "1.2.0",
      "_view_name": "StyleView",
      "description_width": ""
     }
    },
    "3838ac5a07244d7da893c8ba71b21fd9": {
     "model_module": "@jupyter-widgets/controls",
     "model_module_version": "1.5.0",
     "model_name": "DescriptionStyleModel",
     "state": {
      "_model_module": "@jupyter-widgets/controls",
      "_model_module_version": "1.5.0",
      "_model_name": "DescriptionStyleModel",
      "_view_count": null,
      "_view_module": "@jupyter-widgets/base",
      "_view_module_version": "1.2.0",
      "_view_name": "StyleView",
      "description_width": ""
     }
    },
    "38b21b8459234a42b8fb69752644d48a": {
     "model_module": "@jupyter-widgets/controls",
     "model_module_version": "1.5.0",
     "model_name": "DescriptionStyleModel",
     "state": {
      "_model_module": "@jupyter-widgets/controls",
      "_model_module_version": "1.5.0",
      "_model_name": "DescriptionStyleModel",
      "_view_count": null,
      "_view_module": "@jupyter-widgets/base",
      "_view_module_version": "1.2.0",
      "_view_name": "StyleView",
      "description_width": ""
     }
    },
    "3b32dbed334941b881ae0e563d7c40ce": {
     "model_module": "@jupyter-widgets/controls",
     "model_module_version": "1.5.0",
     "model_name": "FloatProgressModel",
     "state": {
      "_dom_classes": [],
      "_model_module": "@jupyter-widgets/controls",
      "_model_module_version": "1.5.0",
      "_model_name": "FloatProgressModel",
      "_view_count": null,
      "_view_module": "@jupyter-widgets/controls",
      "_view_module_version": "1.5.0",
      "_view_name": "ProgressView",
      "bar_style": "success",
      "description": "",
      "description_tooltip": null,
      "layout": "IPY_MODEL_0a8902cb735d4f658fd387204149ace6",
      "max": 1,
      "min": 0,
      "orientation": "horizontal",
      "style": "IPY_MODEL_e25584843ddd4a4484ec94e7e6c0f6a0",
      "value": 0
     }
    },
    "3ddd98a8524042adba2bbaab1dbf60af": {
     "model_module": "@jupyter-widgets/base",
     "model_module_version": "1.2.0",
     "model_name": "LayoutModel",
     "state": {
      "_model_module": "@jupyter-widgets/base",
      "_model_module_version": "1.2.0",
      "_model_name": "LayoutModel",
      "_view_count": null,
      "_view_module": "@jupyter-widgets/base",
      "_view_module_version": "1.2.0",
      "_view_name": "LayoutView",
      "align_content": null,
      "align_items": null,
      "align_self": null,
      "border": null,
      "bottom": null,
      "display": null,
      "flex": null,
      "flex_flow": null,
      "grid_area": null,
      "grid_auto_columns": null,
      "grid_auto_flow": null,
      "grid_auto_rows": null,
      "grid_column": null,
      "grid_gap": null,
      "grid_row": null,
      "grid_template_areas": null,
      "grid_template_columns": null,
      "grid_template_rows": null,
      "height": null,
      "justify_content": null,
      "justify_items": null,
      "left": null,
      "margin": null,
      "max_height": null,
      "max_width": null,
      "min_height": null,
      "min_width": null,
      "object_fit": null,
      "object_position": null,
      "order": null,
      "overflow": null,
      "overflow_x": null,
      "overflow_y": null,
      "padding": null,
      "right": null,
      "top": null,
      "visibility": null,
      "width": null
     }
    },
    "5293a6fc609849eda02622c6fa5b2167": {
     "model_module": "@jupyter-widgets/controls",
     "model_module_version": "1.5.0",
     "model_name": "ProgressStyleModel",
     "state": {
      "_model_module": "@jupyter-widgets/controls",
      "_model_module_version": "1.5.0",
      "_model_name": "ProgressStyleModel",
      "_view_count": null,
      "_view_module": "@jupyter-widgets/base",
      "_view_module_version": "1.2.0",
      "_view_name": "StyleView",
      "bar_color": null,
      "description_width": ""
     }
    },
    "52eabebd19834610890b10347acaf05a": {
     "model_module": "@jupyter-widgets/controls",
     "model_module_version": "1.5.0",
     "model_name": "ProgressStyleModel",
     "state": {
      "_model_module": "@jupyter-widgets/controls",
      "_model_module_version": "1.5.0",
      "_model_name": "ProgressStyleModel",
      "_view_count": null,
      "_view_module": "@jupyter-widgets/base",
      "_view_module_version": "1.2.0",
      "_view_name": "StyleView",
      "bar_color": null,
      "description_width": ""
     }
    },
    "5ad3705618644447bfcfdb9b65271883": {
     "model_module": "@jupyter-widgets/base",
     "model_module_version": "1.2.0",
     "model_name": "LayoutModel",
     "state": {
      "_model_module": "@jupyter-widgets/base",
      "_model_module_version": "1.2.0",
      "_model_name": "LayoutModel",
      "_view_count": null,
      "_view_module": "@jupyter-widgets/base",
      "_view_module_version": "1.2.0",
      "_view_name": "LayoutView",
      "align_content": null,
      "align_items": null,
      "align_self": null,
      "border": null,
      "bottom": null,
      "display": null,
      "flex": null,
      "flex_flow": null,
      "grid_area": null,
      "grid_auto_columns": null,
      "grid_auto_flow": null,
      "grid_auto_rows": null,
      "grid_column": null,
      "grid_gap": null,
      "grid_row": null,
      "grid_template_areas": null,
      "grid_template_columns": null,
      "grid_template_rows": null,
      "height": null,
      "justify_content": null,
      "justify_items": null,
      "left": null,
      "margin": null,
      "max_height": null,
      "max_width": null,
      "min_height": null,
      "min_width": null,
      "object_fit": null,
      "object_position": null,
      "order": null,
      "overflow": null,
      "overflow_x": null,
      "overflow_y": null,
      "padding": null,
      "right": null,
      "top": null,
      "visibility": null,
      "width": null
     }
    },
    "5ffb8a1db11a43cb8602ec7af8c55f77": {
     "model_module": "@jupyter-widgets/base",
     "model_module_version": "1.2.0",
     "model_name": "LayoutModel",
     "state": {
      "_model_module": "@jupyter-widgets/base",
      "_model_module_version": "1.2.0",
      "_model_name": "LayoutModel",
      "_view_count": null,
      "_view_module": "@jupyter-widgets/base",
      "_view_module_version": "1.2.0",
      "_view_name": "LayoutView",
      "align_content": null,
      "align_items": null,
      "align_self": null,
      "border": null,
      "bottom": null,
      "display": null,
      "flex": null,
      "flex_flow": null,
      "grid_area": null,
      "grid_auto_columns": null,
      "grid_auto_flow": null,
      "grid_auto_rows": null,
      "grid_column": null,
      "grid_gap": null,
      "grid_row": null,
      "grid_template_areas": null,
      "grid_template_columns": null,
      "grid_template_rows": null,
      "height": null,
      "justify_content": null,
      "justify_items": null,
      "left": null,
      "margin": null,
      "max_height": null,
      "max_width": null,
      "min_height": null,
      "min_width": null,
      "object_fit": null,
      "object_position": null,
      "order": null,
      "overflow": null,
      "overflow_x": null,
      "overflow_y": null,
      "padding": null,
      "right": null,
      "top": null,
      "visibility": null,
      "width": null
     }
    },
    "6abc6629a8b0412c9b09ad02c3376127": {
     "model_module": "@jupyter-widgets/controls",
     "model_module_version": "1.5.0",
     "model_name": "HTMLModel",
     "state": {
      "_dom_classes": [],
      "_model_module": "@jupyter-widgets/controls",
      "_model_module_version": "1.5.0",
      "_model_name": "HTMLModel",
      "_view_count": null,
      "_view_module": "@jupyter-widgets/controls",
      "_view_module_version": "1.5.0",
      "_view_name": "HTMLView",
      "description": "",
      "description_tooltip": null,
      "layout": "IPY_MODEL_155517c19bc24d599b068af7e28ad8cf",
      "placeholder": "​",
      "style": "IPY_MODEL_3838ac5a07244d7da893c8ba71b21fd9",
      "value": " 0/0 [00:00&lt;?, ?it/s]"
     }
    },
    "7874b0b368c24ef7b15fac3a4ed83582": {
     "model_module": "@jupyter-widgets/controls",
     "model_module_version": "1.5.0",
     "model_name": "HTMLModel",
     "state": {
      "_dom_classes": [],
      "_model_module": "@jupyter-widgets/controls",
      "_model_module_version": "1.5.0",
      "_model_name": "HTMLModel",
      "_view_count": null,
      "_view_module": "@jupyter-widgets/controls",
      "_view_module_version": "1.5.0",
      "_view_name": "HTMLView",
      "description": "",
      "description_tooltip": null,
      "layout": "IPY_MODEL_c9403580e4524754980170c5f1130bd9",
      "placeholder": "​",
      "style": "IPY_MODEL_1e5da5a29aaa4700bcdbdfc768b33aaf",
      "value": " 1/1 [00:00&lt;00:00,  8.90ba/s]"
     }
    },
    "861ab3f25cb4479f9ace3978dc315ecf": {
     "model_module": "@jupyter-widgets/base",
     "model_module_version": "1.2.0",
     "model_name": "LayoutModel",
     "state": {
      "_model_module": "@jupyter-widgets/base",
      "_model_module_version": "1.2.0",
      "_model_name": "LayoutModel",
      "_view_count": null,
      "_view_module": "@jupyter-widgets/base",
      "_view_module_version": "1.2.0",
      "_view_name": "LayoutView",
      "align_content": null,
      "align_items": null,
      "align_self": null,
      "border": null,
      "bottom": null,
      "display": null,
      "flex": null,
      "flex_flow": null,
      "grid_area": null,
      "grid_auto_columns": null,
      "grid_auto_flow": null,
      "grid_auto_rows": null,
      "grid_column": null,
      "grid_gap": null,
      "grid_row": null,
      "grid_template_areas": null,
      "grid_template_columns": null,
      "grid_template_rows": null,
      "height": null,
      "justify_content": null,
      "justify_items": null,
      "left": null,
      "margin": null,
      "max_height": null,
      "max_width": null,
      "min_height": null,
      "min_width": null,
      "object_fit": null,
      "object_position": null,
      "order": null,
      "overflow": null,
      "overflow_x": null,
      "overflow_y": null,
      "padding": null,
      "right": null,
      "top": null,
      "visibility": null,
      "width": null
     }
    },
    "8722d84268664df5a8012a83afd575f3": {
     "model_module": "@jupyter-widgets/base",
     "model_module_version": "1.2.0",
     "model_name": "LayoutModel",
     "state": {
      "_model_module": "@jupyter-widgets/base",
      "_model_module_version": "1.2.0",
      "_model_name": "LayoutModel",
      "_view_count": null,
      "_view_module": "@jupyter-widgets/base",
      "_view_module_version": "1.2.0",
      "_view_name": "LayoutView",
      "align_content": null,
      "align_items": null,
      "align_self": null,
      "border": null,
      "bottom": null,
      "display": null,
      "flex": null,
      "flex_flow": null,
      "grid_area": null,
      "grid_auto_columns": null,
      "grid_auto_flow": null,
      "grid_auto_rows": null,
      "grid_column": null,
      "grid_gap": null,
      "grid_row": null,
      "grid_template_areas": null,
      "grid_template_columns": null,
      "grid_template_rows": null,
      "height": null,
      "justify_content": null,
      "justify_items": null,
      "left": null,
      "margin": null,
      "max_height": null,
      "max_width": null,
      "min_height": null,
      "min_width": null,
      "object_fit": null,
      "object_position": null,
      "order": null,
      "overflow": null,
      "overflow_x": null,
      "overflow_y": null,
      "padding": null,
      "right": null,
      "top": null,
      "visibility": null,
      "width": null
     }
    },
    "8a1e9c4517dc463ba78b91b16431008a": {
     "model_module": "@jupyter-widgets/controls",
     "model_module_version": "1.5.0",
     "model_name": "DescriptionStyleModel",
     "state": {
      "_model_module": "@jupyter-widgets/controls",
      "_model_module_version": "1.5.0",
      "_model_name": "DescriptionStyleModel",
      "_view_count": null,
      "_view_module": "@jupyter-widgets/base",
      "_view_module_version": "1.2.0",
      "_view_name": "StyleView",
      "description_width": ""
     }
    },
    "8c2682025ce14a88b39dbfc826e33954": {
     "model_module": "@jupyter-widgets/base",
     "model_module_version": "1.2.0",
     "model_name": "LayoutModel",
     "state": {
      "_model_module": "@jupyter-widgets/base",
      "_model_module_version": "1.2.0",
      "_model_name": "LayoutModel",
      "_view_count": null,
      "_view_module": "@jupyter-widgets/base",
      "_view_module_version": "1.2.0",
      "_view_name": "LayoutView",
      "align_content": null,
      "align_items": null,
      "align_self": null,
      "border": null,
      "bottom": null,
      "display": null,
      "flex": null,
      "flex_flow": null,
      "grid_area": null,
      "grid_auto_columns": null,
      "grid_auto_flow": null,
      "grid_auto_rows": null,
      "grid_column": null,
      "grid_gap": null,
      "grid_row": null,
      "grid_template_areas": null,
      "grid_template_columns": null,
      "grid_template_rows": null,
      "height": null,
      "justify_content": null,
      "justify_items": null,
      "left": null,
      "margin": null,
      "max_height": null,
      "max_width": null,
      "min_height": null,
      "min_width": null,
      "object_fit": null,
      "object_position": null,
      "order": null,
      "overflow": null,
      "overflow_x": null,
      "overflow_y": null,
      "padding": null,
      "right": null,
      "top": null,
      "visibility": null,
      "width": null
     }
    },
    "9e2728489569432394255a3bb3a80247": {
     "model_module": "@jupyter-widgets/controls",
     "model_module_version": "1.5.0",
     "model_name": "HBoxModel",
     "state": {
      "_dom_classes": [],
      "_model_module": "@jupyter-widgets/controls",
      "_model_module_version": "1.5.0",
      "_model_name": "HBoxModel",
      "_view_count": null,
      "_view_module": "@jupyter-widgets/controls",
      "_view_module_version": "1.5.0",
      "_view_name": "HBoxView",
      "box_style": "",
      "children": [
       "IPY_MODEL_af6bdd67d22a42f0be80845511720ae0",
       "IPY_MODEL_3b32dbed334941b881ae0e563d7c40ce",
       "IPY_MODEL_6abc6629a8b0412c9b09ad02c3376127"
      ],
      "layout": "IPY_MODEL_8722d84268664df5a8012a83afd575f3"
     }
    },
    "a255def76d9b4c9db5d9cc7385fc9e6d": {
     "model_module": "@jupyter-widgets/base",
     "model_module_version": "1.2.0",
     "model_name": "LayoutModel",
     "state": {
      "_model_module": "@jupyter-widgets/base",
      "_model_module_version": "1.2.0",
      "_model_name": "LayoutModel",
      "_view_count": null,
      "_view_module": "@jupyter-widgets/base",
      "_view_module_version": "1.2.0",
      "_view_name": "LayoutView",
      "align_content": null,
      "align_items": null,
      "align_self": null,
      "border": null,
      "bottom": null,
      "display": null,
      "flex": null,
      "flex_flow": null,
      "grid_area": null,
      "grid_auto_columns": null,
      "grid_auto_flow": null,
      "grid_auto_rows": null,
      "grid_column": null,
      "grid_gap": null,
      "grid_row": null,
      "grid_template_areas": null,
      "grid_template_columns": null,
      "grid_template_rows": null,
      "height": null,
      "justify_content": null,
      "justify_items": null,
      "left": null,
      "margin": null,
      "max_height": null,
      "max_width": null,
      "min_height": null,
      "min_width": null,
      "object_fit": null,
      "object_position": null,
      "order": null,
      "overflow": null,
      "overflow_x": null,
      "overflow_y": null,
      "padding": null,
      "right": null,
      "top": null,
      "visibility": null,
      "width": null
     }
    },
    "a864568c3b89405cb3ca8e36180f9e61": {
     "model_module": "@jupyter-widgets/controls",
     "model_module_version": "1.5.0",
     "model_name": "DescriptionStyleModel",
     "state": {
      "_model_module": "@jupyter-widgets/controls",
      "_model_module_version": "1.5.0",
      "_model_name": "DescriptionStyleModel",
      "_view_count": null,
      "_view_module": "@jupyter-widgets/base",
      "_view_module_version": "1.2.0",
      "_view_name": "StyleView",
      "description_width": ""
     }
    },
    "af6bdd67d22a42f0be80845511720ae0": {
     "model_module": "@jupyter-widgets/controls",
     "model_module_version": "1.5.0",
     "model_name": "HTMLModel",
     "state": {
      "_dom_classes": [],
      "_model_module": "@jupyter-widgets/controls",
      "_model_module_version": "1.5.0",
      "_model_name": "HTMLModel",
      "_view_count": null,
      "_view_module": "@jupyter-widgets/controls",
      "_view_module_version": "1.5.0",
      "_view_name": "HTMLView",
      "description": "",
      "description_tooltip": null,
      "layout": "IPY_MODEL_3ddd98a8524042adba2bbaab1dbf60af",
      "placeholder": "​",
      "style": "IPY_MODEL_8a1e9c4517dc463ba78b91b16431008a",
      "value": ""
     }
    },
    "b0614b4ade314c5c8073193bb1d3408f": {
     "model_module": "@jupyter-widgets/base",
     "model_module_version": "1.2.0",
     "model_name": "LayoutModel",
     "state": {
      "_model_module": "@jupyter-widgets/base",
      "_model_module_version": "1.2.0",
      "_model_name": "LayoutModel",
      "_view_count": null,
      "_view_module": "@jupyter-widgets/base",
      "_view_module_version": "1.2.0",
      "_view_name": "LayoutView",
      "align_content": null,
      "align_items": null,
      "align_self": null,
      "border": null,
      "bottom": null,
      "display": null,
      "flex": null,
      "flex_flow": null,
      "grid_area": null,
      "grid_auto_columns": null,
      "grid_auto_flow": null,
      "grid_auto_rows": null,
      "grid_column": null,
      "grid_gap": null,
      "grid_row": null,
      "grid_template_areas": null,
      "grid_template_columns": null,
      "grid_template_rows": null,
      "height": null,
      "justify_content": null,
      "justify_items": null,
      "left": null,
      "margin": null,
      "max_height": null,
      "max_width": null,
      "min_height": null,
      "min_width": null,
      "object_fit": null,
      "object_position": null,
      "order": null,
      "overflow": null,
      "overflow_x": null,
      "overflow_y": null,
      "padding": null,
      "right": null,
      "top": null,
      "visibility": null,
      "width": null
     }
    },
    "b591e297adff46fa8df014fe9192caa3": {
     "model_module": "@jupyter-widgets/controls",
     "model_module_version": "1.5.0",
     "model_name": "HTMLModel",
     "state": {
      "_dom_classes": [],
      "_model_module": "@jupyter-widgets/controls",
      "_model_module_version": "1.5.0",
      "_model_name": "HTMLModel",
      "_view_count": null,
      "_view_module": "@jupyter-widgets/controls",
      "_view_module_version": "1.5.0",
      "_view_name": "HTMLView",
      "description": "",
      "description_tooltip": null,
      "layout": "IPY_MODEL_e39bf65dc61a4836805a0a8bd23503a3",
      "placeholder": "​",
      "style": "IPY_MODEL_a864568c3b89405cb3ca8e36180f9e61",
      "value": " 3/3 [00:00&lt;00:00, 66.64it/s]"
     }
    },
    "b71e32972c104b53a669ec7591e557ff": {
     "model_module": "@jupyter-widgets/controls",
     "model_module_version": "1.5.0",
     "model_name": "DescriptionStyleModel",
     "state": {
      "_model_module": "@jupyter-widgets/controls",
      "_model_module_version": "1.5.0",
      "_model_name": "DescriptionStyleModel",
      "_view_count": null,
      "_view_module": "@jupyter-widgets/base",
      "_view_module_version": "1.2.0",
      "_view_name": "StyleView",
      "description_width": ""
     }
    },
    "c9403580e4524754980170c5f1130bd9": {
     "model_module": "@jupyter-widgets/base",
     "model_module_version": "1.2.0",
     "model_name": "LayoutModel",
     "state": {
      "_model_module": "@jupyter-widgets/base",
      "_model_module_version": "1.2.0",
      "_model_name": "LayoutModel",
      "_view_count": null,
      "_view_module": "@jupyter-widgets/base",
      "_view_module_version": "1.2.0",
      "_view_name": "LayoutView",
      "align_content": null,
      "align_items": null,
      "align_self": null,
      "border": null,
      "bottom": null,
      "display": null,
      "flex": null,
      "flex_flow": null,
      "grid_area": null,
      "grid_auto_columns": null,
      "grid_auto_flow": null,
      "grid_auto_rows": null,
      "grid_column": null,
      "grid_gap": null,
      "grid_row": null,
      "grid_template_areas": null,
      "grid_template_columns": null,
      "grid_template_rows": null,
      "height": null,
      "justify_content": null,
      "justify_items": null,
      "left": null,
      "margin": null,
      "max_height": null,
      "max_width": null,
      "min_height": null,
      "min_width": null,
      "object_fit": null,
      "object_position": null,
      "order": null,
      "overflow": null,
      "overflow_x": null,
      "overflow_y": null,
      "padding": null,
      "right": null,
      "top": null,
      "visibility": null,
      "width": null
     }
    },
    "cde2d6e48a7748ca840c745e52fa06c2": {
     "model_module": "@jupyter-widgets/controls",
     "model_module_version": "1.5.0",
     "model_name": "FloatProgressModel",
     "state": {
      "_dom_classes": [],
      "_model_module": "@jupyter-widgets/controls",
      "_model_module_version": "1.5.0",
      "_model_name": "FloatProgressModel",
      "_view_count": null,
      "_view_module": "@jupyter-widgets/controls",
      "_view_module_version": "1.5.0",
      "_view_name": "ProgressView",
      "bar_style": "success",
      "description": "",
      "description_tooltip": null,
      "layout": "IPY_MODEL_5ffb8a1db11a43cb8602ec7af8c55f77",
      "max": 1,
      "min": 0,
      "orientation": "horizontal",
      "style": "IPY_MODEL_5293a6fc609849eda02622c6fa5b2167",
      "value": 1
     }
    },
    "e25584843ddd4a4484ec94e7e6c0f6a0": {
     "model_module": "@jupyter-widgets/controls",
     "model_module_version": "1.5.0",
     "model_name": "ProgressStyleModel",
     "state": {
      "_model_module": "@jupyter-widgets/controls",
      "_model_module_version": "1.5.0",
      "_model_name": "ProgressStyleModel",
      "_view_count": null,
      "_view_module": "@jupyter-widgets/base",
      "_view_module_version": "1.2.0",
      "_view_name": "StyleView",
      "bar_color": null,
      "description_width": ""
     }
    },
    "e39bf65dc61a4836805a0a8bd23503a3": {
     "model_module": "@jupyter-widgets/base",
     "model_module_version": "1.2.0",
     "model_name": "LayoutModel",
     "state": {
      "_model_module": "@jupyter-widgets/base",
      "_model_module_version": "1.2.0",
      "_model_name": "LayoutModel",
      "_view_count": null,
      "_view_module": "@jupyter-widgets/base",
      "_view_module_version": "1.2.0",
      "_view_name": "LayoutView",
      "align_content": null,
      "align_items": null,
      "align_self": null,
      "border": null,
      "bottom": null,
      "display": null,
      "flex": null,
      "flex_flow": null,
      "grid_area": null,
      "grid_auto_columns": null,
      "grid_auto_flow": null,
      "grid_auto_rows": null,
      "grid_column": null,
      "grid_gap": null,
      "grid_row": null,
      "grid_template_areas": null,
      "grid_template_columns": null,
      "grid_template_rows": null,
      "height": null,
      "justify_content": null,
      "justify_items": null,
      "left": null,
      "margin": null,
      "max_height": null,
      "max_width": null,
      "min_height": null,
      "min_width": null,
      "object_fit": null,
      "object_position": null,
      "order": null,
      "overflow": null,
      "overflow_x": null,
      "overflow_y": null,
      "padding": null,
      "right": null,
      "top": null,
      "visibility": null,
      "width": null
     }
    },
    "e9acdb1a1d2643819339b8f0cf3cecd1": {
     "model_module": "@jupyter-widgets/controls",
     "model_module_version": "1.5.0",
     "model_name": "HBoxModel",
     "state": {
      "_dom_classes": [],
      "_model_module": "@jupyter-widgets/controls",
      "_model_module_version": "1.5.0",
      "_model_name": "HBoxModel",
      "_view_count": null,
      "_view_module": "@jupyter-widgets/controls",
      "_view_module_version": "1.5.0",
      "_view_name": "HBoxView",
      "box_style": "",
      "children": [
       "IPY_MODEL_135dbaaa41a946ca899dc8164bca3e44",
       "IPY_MODEL_09db8fe0b55443fdab2ac54e84bb7ff5",
       "IPY_MODEL_b591e297adff46fa8df014fe9192caa3"
      ],
      "layout": "IPY_MODEL_8c2682025ce14a88b39dbfc826e33954"
     }
    },
    "ea941579121247548fdf7774079f2f5b": {
     "model_module": "@jupyter-widgets/controls",
     "model_module_version": "1.5.0",
     "model_name": "HBoxModel",
     "state": {
      "_dom_classes": [],
      "_model_module": "@jupyter-widgets/controls",
      "_model_module_version": "1.5.0",
      "_model_name": "HBoxModel",
      "_view_count": null,
      "_view_module": "@jupyter-widgets/controls",
      "_view_module_version": "1.5.0",
      "_view_name": "HBoxView",
      "box_style": "",
      "children": [
       "IPY_MODEL_0faf64a0c2af4340ac3b0eed24732d5a",
       "IPY_MODEL_cde2d6e48a7748ca840c745e52fa06c2",
       "IPY_MODEL_7874b0b368c24ef7b15fac3a4ed83582"
      ],
      "layout": "IPY_MODEL_a255def76d9b4c9db5d9cc7385fc9e6d"
     }
    }
   }
  }
 },
 "nbformat": 4,
 "nbformat_minor": 1
}
